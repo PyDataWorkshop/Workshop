{
 "metadata": {
  "name": "",
  "signature": "sha256:c3fe8430177a80f42925e092391b0b7d4d778b116a1493500a05f49262c46c4c"
 },
 "nbformat": 3,
 "nbformat_minor": 0,
 "worksheets": [
  {
   "cells": [
    {
     "cell_type": "code",
     "collapsed": false,
     "input": [
      "# pass in column names for each CSV\n",
      "u_cols = ['user_id', 'age', 'sex', 'occupation', 'zip_code']\n",
      "users = pd.read_csv('ml-100k/u.user', sep='|', names=u_cols)\n",
      "\n",
      "r_cols = ['user_id', 'movie_id', 'rating', 'unix_timestamp']\n",
      "ratings = pd.read_csv('ml-100k/u.data', sep='\\t', names=r_cols)\n",
      "\n",
      "# the movies file contains columns indicating the movie's genres\n",
      "# let's only load the first five columns of the file with usecols\n",
      "m_cols = ['movie_id', 'title', 'release_date', 'video_release_date', 'imdb_url']\n",
      "movies = pd.read_csv('ml-100k/u.item', sep='|', names=m_cols, usecols=range(5))\n",
      "\n",
      "# create one merged DataFrame\n",
      "movie_ratings = pd.merge(movies, ratings)\n",
      "lens = pd.merge(movie_ratings, users)"
     ],
     "language": "python",
     "metadata": {},
     "outputs": []
    },
    {
     "cell_type": "code",
     "collapsed": false,
     "input": [
      "most_rated = lens.groupby('title').size().order(ascending=False)[:25]\n",
      "print most_rated"
     ],
     "language": "python",
     "metadata": {},
     "outputs": []
    },
    {
     "cell_type": "code",
     "collapsed": false,
     "input": [
      "lens.title.value_counts()[:25]"
     ],
     "language": "python",
     "metadata": {},
     "outputs": []
    },
    {
     "cell_type": "code",
     "collapsed": false,
     "input": [
      "movie_stats = lens.groupby('title').agg({'rating': [np.size, np.mean]})\n",
      "print movie_stats.head()"
     ],
     "language": "python",
     "metadata": {},
     "outputs": []
    },
    {
     "cell_type": "code",
     "collapsed": false,
     "input": [
      "# sort by rating average\n",
      "print movie_stats.sort([('rating', 'mean')], ascending=False).head()"
     ],
     "language": "python",
     "metadata": {},
     "outputs": []
    },
    {
     "cell_type": "code",
     "collapsed": false,
     "input": [
      "atleast_100 = movie_stats['rating'].size >= 100\n",
      "print movie_stats[atleast_100].sort([('rating', 'mean')], ascending=False)[:15]"
     ],
     "language": "python",
     "metadata": {},
     "outputs": []
    },
    {
     "cell_type": "code",
     "collapsed": false,
     "input": [
      "most_50 = lens.groupby('movie_id').size().order(ascending=False)[:50]"
     ],
     "language": "python",
     "metadata": {},
     "outputs": []
    },
    {
     "cell_type": "code",
     "collapsed": false,
     "input": [
      "users.age.hist(bins=30)\n",
      "plt.title(\"Distribution of users' ages\")\n",
      "plt.ylabel('count of users')\n",
      "plt.xlabel('age');"
     ],
     "language": "python",
     "metadata": {},
     "outputs": []
    }
   ],
   "metadata": {}
  }
 ]
}