{
 "metadata": {
  "name": "",
  "signature": "sha256:fcf877d57a99120c02843add63b15ff51d34264b07b8fd2af68ee618dabcdd12"
 },
 "nbformat": 3,
 "nbformat_minor": 0,
 "worksheets": [
  {
   "cells": [
    {
     "cell_type": "code",
     "collapsed": false,
     "input": [
      "import pandas as pd\n",
      "import numpy as np\n",
      "import matplotlib.pyplot as plt\n",
      "pd.set_option('max_columns', 50)\n",
      "\n",
      "\n"
     ],
     "language": "python",
     "metadata": {},
     "outputs": [],
     "prompt_number": 1
    },
    {
     "cell_type": "code",
     "collapsed": false,
     "input": [
      "# create a Series with an arbitrary list\n",
      "s = pd.Series([7, 'Heisenberg', 3.14, -1789710578, 'Happy Eating!'])\n",
      "s\n",
      "\n",
      "\n"
     ],
     "language": "python",
     "metadata": {},
     "outputs": [
      {
       "metadata": {},
       "output_type": "pyout",
       "prompt_number": 3,
       "text": [
        "A                7\n",
        "Z       Heisenberg\n",
        "C             3.14\n",
        "Y      -1789710578\n",
        "E    Happy Eating!\n",
        "dtype: object"
       ]
      }
     ],
     "prompt_number": 3
    },
    {
     "cell_type": "code",
     "collapsed": false,
     "input": [
      "s = pd.Series([7, 'Heisenberg', 3.14, -1789710578, 'Happy Eating!'],\n",
      "index=['A', 'Z', 'C', 'Y', 'E'])\n",
      "s\n"
     ],
     "language": "python",
     "metadata": {},
     "outputs": [
      {
       "metadata": {},
       "output_type": "pyout",
       "prompt_number": 4,
       "text": [
        "A                7\n",
        "Z       Heisenberg\n",
        "C             3.14\n",
        "Y      -1789710578\n",
        "E    Happy Eating!\n",
        "dtype: object"
       ]
      }
     ],
     "prompt_number": 4
    },
    {
     "cell_type": "code",
     "collapsed": false,
     "input": [
      "d = {'Chicago': 1000, 'New York': 1300, 'Portland': 900, 'San Francisco': 1100,\n",
      "'Austin': 450, 'Boston': None}\n",
      "cities = pd.Series(d)\n",
      "cities\n",
      "\n",
      "cities['Chicago']\n",
      "cities[['Chicago', 'Portland', 'San Francisco']]\n"
     ],
     "language": "python",
     "metadata": {},
     "outputs": []
    },
    {
     "cell_type": "code",
     "collapsed": false,
     "input": [
      "# Boolean Selection\n",
      "cities[cities < 1000]\n",
      "\n",
      "\n",
      "\n",
      "\n",
      "\n"
     ],
     "language": "python",
     "metadata": {},
     "outputs": []
    },
    {
     "cell_type": "code",
     "collapsed": false,
     "input": [
      "less_than_1000 = cities < 1000\n",
      "print less_than_1000\n",
      "print '\\n'\n",
      "print cities[less_than_1000]"
     ],
     "language": "python",
     "metadata": {},
     "outputs": []
    },
    {
     "cell_type": "code",
     "collapsed": false,
     "input": [
      "# changing based on the index\n",
      "print 'Old value:', cities['Chicago']\n",
      "cities['Chicago'] = 1400\n",
      "print 'New value:', cities['Chicago']\n"
     ],
     "language": "python",
     "metadata": {},
     "outputs": []
    },
    {
     "cell_type": "code",
     "collapsed": false,
     "input": [
      "# changing values using boolean logic\n",
      "print cities[cities < 1000]\n",
      "print '\\n'\n",
      "cities[cities < 1000] = 750\n",
      "\n",
      "print cities[cities < 1000]\n",
      "\n",
      "print 'Seattle' in cities\n",
      "print 'San Francisco' in cities\n",
      "\n",
      "# divide city values by 3\n",
      "cities / 3\n"
     ],
     "language": "python",
     "metadata": {},
     "outputs": []
    },
    {
     "cell_type": "code",
     "collapsed": false,
     "input": [
      "# square city values\n",
      "np.square(cities)\n",
      "\n",
      "print cities[['Chicago', 'New York', 'Portland']]\n",
      "print'\\n'\n",
      "print cities[['Austin', 'New York']]\n",
      "print'\\n'\n",
      "print cities[['Chicago', 'New York', 'Portland']] + cities[['Austin', 'New York']]\n",
      "\n"
     ],
     "language": "python",
     "metadata": {},
     "outputs": []
    },
    {
     "cell_type": "code",
     "collapsed": false,
     "input": [
      "# returns a boolean series indicating which values aren't NULL\n",
      "cities.notnull()\n",
      "\n",
      "# use boolean logic to grab the NULL cities\n",
      "print cities.isnull()\n",
      "print '\\n'\n",
      "print cities[cities.isnull()]"
     ],
     "language": "python",
     "metadata": {},
     "outputs": []
    }
   ],
   "metadata": {}
  }
 ]
}