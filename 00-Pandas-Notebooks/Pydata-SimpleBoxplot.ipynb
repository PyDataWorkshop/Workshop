{
 "metadata": {
  "name": "",
  "signature": "sha256:7a417c3781f03140d778120aa38d0d929bef2d262c01579a93577739f3c9ba37"
 },
 "nbformat": 3,
 "nbformat_minor": 0,
 "worksheets": [
  {
   "cells": [
    {
     "cell_type": "code",
     "collapsed": false,
     "input": [
      "## numpy is used for creating fake data\n",
      "import numpy as np \n",
      "import matplotlib as mpl \n",
      "\n",
      "## agg backend is used to create plot as a .png file\n",
      "mpl.use('agg')\n",
      "\n",
      "import matplotlib.pyplot as plt "
     ],
     "language": "python",
     "metadata": {},
     "outputs": [],
     "prompt_number": 1
    },
    {
     "cell_type": "code",
     "collapsed": false,
     "input": [
      "## Create data\n",
      "np.random.seed(10)\n",
      "collectn_1 = np.random.normal(100, 10, 200)\n",
      "collectn_2 = np.random.normal(80, 30, 200)\n",
      "collectn_3 = np.random.normal(90, 20, 200)\n",
      "collectn_4 = np.random.normal(70, 25, 200)\n",
      "\n",
      "## combine these different collections into a list    \n",
      "data_to_plot = [collectn_1, collectn_2, collectn_3, collectn_4]"
     ],
     "language": "python",
     "metadata": {},
     "outputs": [],
     "prompt_number": 2
    },
    {
     "cell_type": "code",
     "collapsed": false,
     "input": [
      "%matplotlib inline\n",
      "\n",
      "# Create a figure instance\n",
      "fig = plt.figure(1, figsize=(9, 6))\n",
      "\n",
      "# Create an axes instance\n",
      "ax = fig.add_subplot(111)\n",
      "\n",
      "# Create the boxplot\n",
      "bp = ax.boxplot(data_to_plot)\n",
      "\n",
      "# Save the figure\n",
      "fig.savefig('fig1.png', bbox_inches='tight')"
     ],
     "language": "python",
     "metadata": {},
     "outputs": [
      {
       "metadata": {},
       "output_type": "display_data",
       "png": "[encoded data removed]",
       "text": [
        "<matplotlib.figure.Figure at 0x9ef79b0>"
       ]
      }
     ],
     "prompt_number": 5
    },
    {
     "cell_type": "code",
     "collapsed": false,
     "input": [
      "# Create the boxplot\n",
      "%matplotlib inline\n",
      "\n",
      "# Create a figure instance\n",
      "fig = plt.figure(1, figsize=(9, 6))\n",
      "\n",
      "# Create an axes instance\n",
      "ax = fig.add_subplot(111)\n",
      "\n",
      "# Create the boxplot\n",
      "bp = ax.boxplot(data_to_plot)\n",
      "\n",
      "## add patch_artist=True option to ax.boxplot() \n",
      "## to get fill color\n",
      "bp = ax.boxplot(data_to_plot, patch_artist=True)\n",
      "\n",
      "## change outline color, fill color and linewidth of the boxes\n",
      "for box in bp['boxes']:\n",
      "    # change outline color\n",
      "    box.set( color='#7570b3', linewidth=2)\n",
      "    # change fill color\n",
      "    box.set( facecolor = '#1b9e77' )\n",
      "    \n",
      "## change color and linewidth of the whiskers\n",
      "for whisker in bp['whiskers']:\n",
      "    whisker.set(color='#7570b3', linewidth=2)\n",
      "\n",
      "## change color and linewidth of the caps\n",
      "for cap in bp['caps']:\n",
      "    cap.set(color='#7570b3', linewidth=2)\n",
      "\n",
      "## change color and linewidth of the medians\n",
      "for median in bp['medians']:\n",
      "    median.set(color='#b2df8a', linewidth=2)\n",
      "\n",
      "## change the style of fliers and their fill\n",
      "for flier in bp['fliers']:\n",
      "    flier.set(marker='o', color='#e7298a', alpha=0.5)\n",
      "    \n",
      "# Save the figure\n",
      "fig.savefig('fig1.png', bbox_inches='tight')\n",
      "\n"
     ],
     "language": "python",
     "metadata": {},
     "outputs": [
      {
       "metadata": {},
       "output_type": "display_data",
       "png": "[encoded data removed]",
       "text": [
        "<matplotlib.figure.Figure at 0x9d7de48>"
       ]
      }
     ],
     "prompt_number": 13
    },
    {
     "cell_type": "code",
     "collapsed": false,
     "input": [
      "\n",
      "\n",
      "\n",
      "\n"
     ],
     "language": "python",
     "metadata": {},
     "outputs": [],
     "prompt_number": 6
    },
    {
     "cell_type": "code",
     "collapsed": false,
     "input": [],
     "language": "python",
     "metadata": {},
     "outputs": [],
     "prompt_number": 6
    },
    {
     "cell_type": "code",
     "collapsed": false,
     "input": [
      "\n",
      "    \n"
     ],
     "language": "python",
     "metadata": {},
     "outputs": [],
     "prompt_number": 7
    },
    {
     "cell_type": "code",
     "collapsed": false,
     "input": [],
     "language": "python",
     "metadata": {},
     "outputs": []
    }
   ],
   "metadata": {}
  }
 ]
}