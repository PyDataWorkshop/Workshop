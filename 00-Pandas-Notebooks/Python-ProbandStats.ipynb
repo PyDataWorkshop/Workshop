{
 "metadata": {
  "language": "Julia",
  "name": "",
  "signature": "sha256:c2dfbbd04da2d7c5adcb8ad6fe5086c7369512acec6f01d10a8a88a7dc82267b"
 },
 "nbformat": 3,
 "nbformat_minor": 0,
 "worksheets": [
  {
   "cells": [
    {
     "cell_type": "code",
     "collapsed": false,
     "input": [
      "from __future__ import division\n",
      "from __future__ import print_function\n",
      "import scipy\n",
      "import scipy.stats as stats\n",
      "import sys\n",
      "from pylab import *\n",
      "from numpy import *\n",
      "# End Imports\n"
     ],
     "language": "python",
     "metadata": {},
     "outputs": []
    },
    {
     "cell_type": "code",
     "collapsed": false,
     "input": [
      "x = rand(3,4,5)\n",
      "y = random_sample((3,4,5))\n",
      "\n",
      "x = randn(3,4,5)\n",
      "y = standard_normal((3,4,5))\n"
     ],
     "language": "python",
     "metadata": {},
     "outputs": []
    },
    {
     "cell_type": "code",
     "collapsed": false,
     "input": [
      "x = randint(0,10,(100))\n",
      "x.max() # Is 9 since range is [0,10)\n",
      "y = random_integers(0,10,(100))\n",
      "y.max() # Is 10 since range is [0,10]\n",
      "\n",
      "x = arange(10)\n",
      "shuffle(x)\n",
      "x\n",
      "\n",
      "x = arange(10)\n",
      "permutation(x)\n",
      "x\n"
     ],
     "language": "python",
     "metadata": {},
     "outputs": []
    },
    {
     "cell_type": "code",
     "collapsed": false,
     "input": [
      "gen1 = np.random.RandomState()\n",
      "gen2 = np.random.RandomState()\n",
      "gen1.uniform() # Generate a uniform\n",
      "state1 = gen1.get_state()\n",
      "gen1.uniform()\n",
      "gen2.uniform() # Different, since gen2 has different seed\n",
      "gen2.set_state(state1)\n",
      "gen2.uniform() # Same uniform as gen1 produces after assigning state\n",
      "\n",
      "st = get_state()\n",
      "randn(4)\n",
      "set_state(st)\n",
      "randn(4)\n"
     ],
     "language": "python",
     "metadata": {},
     "outputs": []
    },
    {
     "cell_type": "code",
     "collapsed": false,
     "input": [
      "seed()\n",
      "randn()\n",
      "seed()\n",
      "randn()\n",
      "seed(0)\n",
      "randn()\n",
      "seed(0)\n",
      "randn()"
     ],
     "language": "python",
     "metadata": {},
     "outputs": []
    },
    {
     "cell_type": "code",
     "collapsed": false,
     "input": [
      "x = arange(10.0)\n",
      "x.mean()\n",
      "mean(x)\n",
      "x= reshape(arange(20.0),(4,5))\n",
      "mean(x,0)\n",
      "x.mean(1)\n",
      "\n",
      "x= randn(4,5)\n",
      "x\n",
      "median(x)\n",
      "median(x, 0)\n"
     ],
     "language": "python",
     "metadata": {},
     "outputs": []
    },
    {
     "cell_type": "code",
     "collapsed": false,
     "input": [
      "x= randn(3,4)\n",
      "corrcoef(x)\n",
      "corrcoef(x[0],x[1])\n",
      "corrcoef(x, rowvar=False)\n",
      "corrcoef(x.T)\n",
      "\n",
      "x = randn(1000)\n",
      "count, binends = histogram(x)\n",
      "count\n",
      "binends\n",
      "count, binends = histogram(x, 25)\n"
     ],
     "language": "python",
     "metadata": {},
     "outputs": []
    },
    {
     "cell_type": "code",
     "collapsed": false,
     "input": [
      "gamma = stats.gamma\n",
      "gamma.mean(2), gamma.median(2), gamma.std(2), gamma.var(2)\n",
      "gamma.moment(2,2) - gamma.moment(1,2)**2 # Variance\n",
      "gamma.cdf(5, 2), gamma.pdf(5, 2)\n",
      "gamma.ppf(.95957232, 2)\n",
      "log(gamma.pdf(5, 2)) - gamma.logpdf(5, 2)\n",
      "gamma.rvs(5, size=(2,2))\n",
      "gamma.fit(gamma.rvs(5, size=(1000)), floc = 0) # a, 0, shape"
     ],
     "language": "python",
     "metadata": {},
     "outputs": []
    },
    {
     "cell_type": "code",
     "collapsed": false,
     "input": [
      "\n",
      "g = scipy.stats.gamma(1, scale=2)\n",
      "g.cdf(1)\n",
      "\n",
      "x=randint(1,11,1000)\n",
      "stats.mode(x)\n",
      "\n",
      "x = randn(1000)\n",
      "moment = stats.moment\n",
      "moment(x,2) - moment(x,1)**2\n",
      "var(x)\n",
      "x = randn(1000,2)\n",
      "moment(x,2,0) # axis 0\n",
      "\n",
      "x = randn(1000)\n",
      "skew = stats.skew\n",
      "skew(x)\n",
      "x = randn(1000,2)\n",
      "skew(x,0)\n"
     ],
     "language": "python",
     "metadata": {},
     "outputs": []
    },
    {
     "cell_type": "code",
     "collapsed": false,
     "input": [
      "\n",
      "\n",
      "x = randn(1000)\n",
      "kurtosis = stats.kurtosis\n",
      "kurtosis(x)\n",
      "kurtosis(x, fisher=False)\n",
      "kurtosis(x, fisher=False) - kurtosis(x) # Must be 3\n",
      "x = randn(1000,2)\n",
      "kurtosis(x,0)\n",
      "\n",
      "x = randn(10)\n",
      "y = x + randn(10)\n",
      "pearsonr = stats.pearsonr\n",
      "corr, pval = pearsonr(x, y)\n",
      "corr\n",
      "pval"
     ],
     "language": "python",
     "metadata": {},
     "outputs": []
    },
    {
     "cell_type": "code",
     "collapsed": false,
     "input": [
      "x = randn(10,3)\n",
      "spearmanr = stats.spearmanr\n",
      "rho, pval = spearmanr(x)\n",
      "rho\n",
      "pval\n",
      "rho, pval = spearmanr(x[:,1],x[:,2])\n",
      "corr\n",
      "pval\n",
      "\n",
      "x = randn(10)\n",
      "y = x + randn(10)\n",
      "kendalltau = stats.kendalltau\n",
      "tau, pval = kendalltau(x,y)\n",
      "tau\n",
      "pval"
     ],
     "language": "python",
     "metadata": {},
     "outputs": []
    },
    {
     "cell_type": "code",
     "collapsed": false,
     "input": [
      "x = randn(10)\n",
      "y = x + randn(10)\n",
      "linregress = stats.linregress\n",
      "slope, intercept, rvalue, pvalue, stderr = linregress(x,y)\n",
      "slope\n",
      "rsquare = rvalue**2\n",
      "rsquare\n",
      "x.shape = 10,1\n",
      "y.shape = 10,1\n",
      "z = hstack((x,y))\n",
      "linregress(z) # Alternative form, [x y]\n"
     ],
     "language": "python",
     "metadata": {},
     "outputs": []
    },
    {
     "cell_type": "code",
     "collapsed": false,
     "input": [
      "x = randn(100)\n",
      "kstest = stats.kstest\n",
      "stat, pval = kstest(x, 'norm')\n",
      "stat\n",
      "pval\n",
      "ncdf = stats.norm().cdf # No () on cdf to get the function\n",
      "kstest(x, ncdf)\n",
      "x = gamma.rvs(2, size = 100)\n",
      "kstest(x, 'gamma', (2,)) # (2,) contains the shape parameter\n",
      "gcdf = gamma(2).cdf\n",
      "kstest(x, gcdf)"
     ],
     "language": "python",
     "metadata": {},
     "outputs": []
    }
   ],
   "metadata": {}
  }
 ]
}