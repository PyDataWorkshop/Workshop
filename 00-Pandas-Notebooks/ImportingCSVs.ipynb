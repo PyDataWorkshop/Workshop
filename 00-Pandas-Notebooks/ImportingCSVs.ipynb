{
 "metadata": {
  "name": "",
  "signature": "sha256:47542d164177126a64f079616dbf42b41fdd26ec97cbdae42abaecf826b33335"
 },
 "nbformat": 3,
 "nbformat_minor": 0,
 "worksheets": [
  {
   "cells": [
    {
     "cell_type": "code",
     "collapsed": false,
     "input": [
      "import os\n",
      "import pandas as pd\n",
      "from pandas import read_csv\n",
      "from urllib import urlopen\n",
      "\n"
     ],
     "language": "python",
     "metadata": {},
     "outputs": [],
     "prompt_number": 13
    },
    {
     "cell_type": "markdown",
     "metadata": {},
     "source": [
      "### CSV Files\n",
      "\n",
      "A CSV is a comma separated values file, which allows data to be saved in a table structured format. CSVs look like a garden-variety spreadsheet but with a .csv extension (Traditionally they take the form of a text file containing information separated by commas, hence the name). CSV files can be used with any spreadsheet program, such as Microsoft Excel, Open Office Calc, or Google Spreadsheets. They differ from other spreadsheet file types in that you can only have a single sheet in a file, they can not save cell, column, or row styling, and can not save forumlas.\n"
     ]
    },
    {
     "cell_type": "code",
     "collapsed": false,
     "input": [
      "\n",
      "page = urlopen(\"http://econpy.pythonanywhere.com/ex/NFL_1979.csv\")\n",
      "df = read_csv(page)\n",
      "print df\n"
     ],
     "language": "python",
     "metadata": {},
     "outputs": [
      {
       "output_type": "stream",
       "stream": "stdout",
       "text": [
        "           Date               Visitor  Visitor Score             Home Team  \\\n",
        "0    09/01/1979         Detroit Lions             16  Tampa Bay Buccaneers   \n",
        "1    09/02/1979       Atlanta Falcons             40    New Orleans Saints   \n",
        "2    09/02/1979       Baltimore Colts              0    Kansas City Chiefs   \n",
        "3    09/02/1979    Cincinnati Bengals              0        Denver Broncos   \n",
        "4    09/02/1979      Cleveland Browns             25         New York Jets   \n",
        "5    09/02/1979        Dallas Cowboys             22    St Louis Cardinals   \n",
        "6    09/02/1979     Green Bay Packers              3         Chicago Bears   \n",
        "7    09/02/1979        Houston Oilers             29   Washington Redskins   \n",
        "8    09/02/1979        Miami Dolphins              9         Buffalo Bills   \n",
        "9    09/02/1979       New York Giants             17   Philadelphia Eagles   \n",
        "10   09/02/1979       Oakland Raiders             24      Los Angeles Rams   \n",
        "11   09/02/1979    San Diego Chargers             33      Seattle Seahawks   \n",
        "12   09/02/1979   San Francisco 49ers             22     Minnesota Vikings   \n",
        "13   09/03/1979   Pittsburgh Steelers             16  New England Patriots   \n",
        "14   09/06/1979      Los Angeles Rams             13        Denver Broncos   \n",
        "15   09/09/1979    Cincinnati Bengals             24         Buffalo Bills   \n",
        "16   09/09/1979      Cleveland Browns             27    Kansas City Chiefs   \n",
        "17   09/09/1979        Dallas Cowboys             21   San Francisco 49ers   \n",
        "18   09/09/1979        Houston Oilers              7   Pittsburgh Steelers   \n",
        "19   09/09/1979    New Orleans Saints             19     Green Bay Packers   \n",
        "20   09/09/1979         New York Jets              3  New England Patriots   \n",
        "21   09/09/1979       Oakland Raiders             10    San Diego Chargers   \n",
        "22   09/09/1979      Seattle Seahawks             10        Miami Dolphins   \n",
        "23   09/09/1979    St Louis Cardinals             27       New York Giants   \n",
        "24   09/09/1979  Tampa Bay Buccaneers             29       Baltimore Colts   \n",
        "25   09/09/1979     Minnesota Vikings              7         Chicago Bears   \n",
        "26   09/09/1979   Washington Redskins             27         Detroit Lions   \n",
        "27   09/10/1979       Atlanta Falcons             14   Philadelphia Eagles   \n",
        "28   09/16/1979       Baltimore Colts             10      Cleveland Browns   \n",
        "29   09/16/1979         Buffalo Bills             19    San Diego Chargers   \n",
        "..          ...                   ...            ...                   ...   \n",
        "194  12/02/1979     Minnesota Vikings             21      Los Angeles Rams   \n",
        "195  12/03/1979       Oakland Raiders             42    New Orleans Saints   \n",
        "196  12/08/1979        Dallas Cowboys             24   Philadelphia Eagles   \n",
        "197  12/08/1979        Denver Broncos             23      Seattle Seahawks   \n",
        "198  12/09/1979         Buffalo Bills              3     Minnesota Vikings   \n",
        "199  12/09/1979         Chicago Bears             15     Green Bay Packers   \n",
        "200  12/09/1979    Cincinnati Bengals             14   Washington Redskins   \n",
        "201  12/09/1979      Cleveland Browns             14       Oakland Raiders   \n",
        "202  12/09/1979    Kansas City Chiefs             10       Baltimore Colts   \n",
        "203  12/09/1979        Miami Dolphins             28         Detroit Lions   \n",
        "204  12/09/1979  New England Patriots             26         New York Jets   \n",
        "205  12/09/1979       New York Giants             20    St Louis Cardinals   \n",
        "206  12/09/1979      Los Angeles Rams             34       Atlanta Falcons   \n",
        "207  12/09/1979    San Diego Chargers             35    New Orleans Saints   \n",
        "208  12/09/1979  Tampa Bay Buccaneers              7   San Francisco 49ers   \n",
        "209  12/10/1979   Pittsburgh Steelers             17        Houston Oilers   \n",
        "210  12/15/1979     Green Bay Packers             18         Detroit Lions   \n",
        "211  12/15/1979         New York Jets             27        Miami Dolphins   \n",
        "212  12/16/1979       Baltimore Colts             31       New York Giants   \n",
        "213  12/16/1979         Buffalo Bills              0   Pittsburgh Steelers   \n",
        "214  12/16/1979      Cleveland Browns             12    Cincinnati Bengals   \n",
        "215  12/16/1979    Kansas City Chiefs              0  Tampa Bay Buccaneers   \n",
        "216  12/16/1979    New Orleans Saints             29      Los Angeles Rams   \n",
        "217  12/16/1979   Philadelphia Eagles             26        Houston Oilers   \n",
        "218  12/16/1979      Seattle Seahawks             29       Oakland Raiders   \n",
        "219  12/16/1979   San Francisco 49ers             21       Atlanta Falcons   \n",
        "220  12/16/1979    St Louis Cardinals              6         Chicago Bears   \n",
        "221  12/16/1979     Minnesota Vikings             23  New England Patriots   \n",
        "222  12/16/1979   Washington Redskins             34        Dallas Cowboys   \n",
        "223  12/17/1979        Denver Broncos              7    San Diego Chargers   \n",
        "\n",
        "     Home Score  Line  Total Line  \n",
        "0            31     3        30.0  \n",
        "1            34     5        32.0  \n",
        "2            14     1        37.0  \n",
        "3            10     3        31.5  \n",
        "4            22     2        41.0  \n",
        "5            21    -4        37.0  \n",
        "6             6     3        31.0  \n",
        "7            27    -4        33.0  \n",
        "8             7    -5        39.0  \n",
        "9            23     7        31.5  \n",
        "10           17     4        36.5  \n",
        "11           16     2        42.5  \n",
        "12           28     7        32.0  \n",
        "13           13    -2        37.0  \n",
        "14            9     2        31.5  \n",
        "15           51    -3        34.0  \n",
        "16           24     0        36.0  \n",
        "17           13   -13        39.0  \n",
        "18           38     6        37.0  \n",
        "19           28     3        35.0  \n",
        "20           56     8        42.0  \n",
        "21           30     3        42.0  \n",
        "22           19     7        40.5  \n",
        "23           14    -3        36.0  \n",
        "24           26     0        33.0  \n",
        "25           26     6        31.5  \n",
        "26           24     0        35.5  \n",
        "27           10     4        35.5  \n",
        "28           13     7        42.0  \n",
        "29           27     9        44.0  \n",
        "..          ...   ...         ...  \n",
        "194          27     7        38.0  \n",
        "195          35     3        43.0  \n",
        "196          17    -3        40.0  \n",
        "197          28    -3        39.0  \n",
        "198          10     2        36.0  \n",
        "199          14    -4        36.0  \n",
        "200          28     6        42.0  \n",
        "201          19     3        44.5  \n",
        "202           7     0        36.0  \n",
        "203          10    -7        36.0  \n",
        "204          27    -4        44.0  \n",
        "205          29     2        36.0  \n",
        "206          13    -3        39.0  \n",
        "207           0     4        45.0  \n",
        "208          23    -3        38.0  \n",
        "209          20    -3        42.5  \n",
        "210          13     3        34.0  \n",
        "211          24     6        45.0  \n",
        "212           7     6        37.0  \n",
        "213          28    12        39.0  \n",
        "214          16     1        41.0  \n",
        "215           3     3        33.0  \n",
        "216          14     6        42.0  \n",
        "217          20     4        39.0  \n",
        "218          24     8        45.0  \n",
        "219          31     3        45.0  \n",
        "220          42     4        37.0  \n",
        "221          27     5        40.0  \n",
        "222          35     8        39.5  \n",
        "223          17     6        38.0  \n",
        "\n",
        "[224 rows x 7 columns]\n"
       ]
      }
     ],
     "prompt_number": 14
    },
    {
     "cell_type": "code",
     "collapsed": false,
     "input": [
      "print df['Visitor']"
     ],
     "language": "python",
     "metadata": {},
     "outputs": [
      {
       "output_type": "stream",
       "stream": "stdout",
       "text": [
        "0           Detroit Lions\n",
        "1         Atlanta Falcons\n",
        "2         Baltimore Colts\n",
        "3      Cincinnati Bengals\n",
        "4        Cleveland Browns\n",
        "5          Dallas Cowboys\n",
        "6       Green Bay Packers\n",
        "7          Houston Oilers\n",
        "8          Miami Dolphins\n",
        "9         New York Giants\n",
        "10        Oakland Raiders\n",
        "11     San Diego Chargers\n",
        "12    San Francisco 49ers\n",
        "13    Pittsburgh Steelers\n",
        "14       Los Angeles Rams\n",
        "...\n",
        "209    Pittsburgh Steelers\n",
        "210      Green Bay Packers\n",
        "211          New York Jets\n",
        "212        Baltimore Colts\n",
        "213          Buffalo Bills\n",
        "214       Cleveland Browns\n",
        "215     Kansas City Chiefs\n",
        "216     New Orleans Saints\n",
        "217    Philadelphia Eagles\n",
        "218       Seattle Seahawks\n",
        "219    San Francisco 49ers\n",
        "220     St Louis Cardinals\n",
        "221      Minnesota Vikings\n",
        "222    Washington Redskins\n",
        "223         Denver Broncos\n",
        "Name: Visitor, Length: 224, dtype: object\n"
       ]
      }
     ],
     "prompt_number": 11
    },
    {
     "cell_type": "code",
     "collapsed": false,
     "input": [
      "os.getcwd()"
     ],
     "language": "python",
     "metadata": {},
     "outputs": [
      {
       "metadata": {},
       "output_type": "pyout",
       "prompt_number": 15,
       "text": [
        "'C:\\\\Users\\\\Kevin\\\\Dropbox\\\\Public\\\\PyData'"
       ]
      }
     ],
     "prompt_number": 15
    },
    {
     "cell_type": "markdown",
     "metadata": {},
     "source": [
      "Reading a CSV is as simple as calling the `read_csv` function. By default, the `read_csv` function expects \n",
      "the column separator to be a comma, \n",
      "but you can change that using the `sep` parameter."
     ]
    },
    {
     "cell_type": "code",
     "collapsed": false,
     "input": [],
     "language": "python",
     "metadata": {},
     "outputs": []
    }
   ],
   "metadata": {}
  }
 ]
}