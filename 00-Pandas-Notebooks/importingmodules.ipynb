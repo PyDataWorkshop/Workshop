{
 "cells": [
  {
   "cell_type": "markdown",
   "metadata": {},
   "source": [
    "The ``import`` function\n",
    "======================================\n",
    "Back to <a href=\"http://pydataworkshop.github.io/\">main page</a> | <a href=\"http://pydataworkshop.github.io/fundamentals/\">fundamentals of Python </a>  \n",
    "\n",
    "\n",
    "Python, by default, only has access to a small number of built-in types and functions. The vast majority of functions are located in modules, and before a function can be accessed, the module which contains the function must be imported. \n",
    "\n",
    "* For example, when using ``ipython --pylab`` (or any variants), a large number\n",
    "of modules are automatically imported, including NumPy and matplotlib.\n",
    "\n",
    "* This is style of importing useful for learning and interactive use, but care is needed to make sure that the correct module is imported when designing more complex programs.\n",
    "\n"
   ]
  },
  {
   "cell_type": "markdown",
   "metadata": {},
   "source": [
    "* ``import`` can be used in a variety of ways. The simplest is to use from module ``import *`` which imports\n",
    "all functions in module. \n",
    "\n",
    "* This method of using import can dangerous since if you use it more than once,\n",
    "it is possible for functions to be hidden by later imports. \n",
    "\n",
    "* A better method is to just import the required functions. \n",
    "\n",
    "* This still places functions at the top level of the namespace, but can be used to avoid conflicts.\n",
    "\n"
   ]
  },
  {
   "cell_type": "code",
   "execution_count": 8,
   "metadata": {
    "collapsed": true
   },
   "outputs": [],
   "source": [
    "# Will import log2 only\n",
    "\n",
    "from pylab import log2 \n",
    "\n",
    "# Will not import the log2 from SciPy\n",
    "\n",
    "from scipy import log10"
   ]
  },
  {
   "cell_type": "code",
   "execution_count": 9,
   "metadata": {
    "collapsed": false
   },
   "outputs": [
    {
     "ename": "SyntaxError",
     "evalue": "invalid syntax (<ipython-input-9-d632d3691bee>, line 1)",
     "output_type": "error",
     "traceback": [
      "\u001b[1;36m  File \u001b[1;32m\"<ipython-input-9-d632d3691bee>\"\u001b[1;36m, line \u001b[1;32m1\u001b[0m\n\u001b[1;33m    The functions \\texttt{log2} and \\texttt{log10} can both be called in subsequent code.\u001b[0m\n\u001b[1;37m                ^\u001b[0m\n\u001b[1;31mSyntaxError\u001b[0m\u001b[1;31m:\u001b[0m invalid syntax\n"
     ]
    }
   ],
   "source": [
    "The functions \\texttt{log2} and \\texttt{log10} can both be called in subsequent code. \n",
    "\n",
    "An alternative, and more common, method is to use import in the form"
   ]
  },
  {
   "cell_type": "code",
   "execution_count": 10,
   "metadata": {
    "collapsed": true
   },
   "outputs": [],
   "source": [
    "\n",
    "import pylab\n",
    "import scipy\n",
    "import numpy\n"
   ]
  },
  {
   "cell_type": "markdown",
   "metadata": {},
   "source": [
    "which allows functions to be accessed using dot-notation and the module name, for example ``scipy.log2``. It is also possible to rename modules when imported using as"
   ]
  },
  {
   "cell_type": "code",
   "execution_count": 11,
   "metadata": {
    "collapsed": true
   },
   "outputs": [],
   "source": [
    "import pylab as pl\n",
    "import scipy as sp\n",
    "import numpy as np"
   ]
  },
  {
   "cell_type": "markdown",
   "metadata": {},
   "source": [
    "* The only difference between these two is that ``import scipy`` is implicitly calling ``import scipy as scipy``.\n",
    "* When this form of ``import`` is used, functions are used with the shortended ``as`` name. \n",
    "* For example, the load provided by NumPy is accessed using ``sp.log2``, while the pylab load is ``pl.log2`` – and both can be used where appropriate.\n",
    "* While this method is the most general, it does require slightly more typing.\n"
   ]
  },
  {
   "cell_type": "code",
   "execution_count": null,
   "metadata": {
    "collapsed": true
   },
   "outputs": [],
   "source": []
  }
 ],
 "metadata": {
  "kernelspec": {
   "display_name": "Python 3",
   "language": "python",
   "name": "python3"
  },
  "language_info": {
   "codemirror_mode": {
    "name": "ipython",
    "version": 3
   },
   "file_extension": ".py",
   "mimetype": "text/x-python",
   "name": "python",
   "nbconvert_exporter": "python",
   "pygments_lexer": "ipython3",
   "version": "3.5.1"
  }
 },
 "nbformat": 4,
 "nbformat_minor": 0
}
