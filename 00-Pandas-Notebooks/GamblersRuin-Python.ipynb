{
 "metadata": {
  "name": "",
  "signature": "sha256:f55201939d74c2b8638609e21f7cb6ee70f560870bf178eaec3eab2bfcf808f6"
 },
 "nbformat": 3,
 "nbformat_minor": 0,
 "worksheets": [
  {
   "cells": [
    {
     "cell_type": "code",
     "collapsed": false,
     "input": [
      "import numpy as np\n",
      "\n",
      "np.random.seed(42)\n",
      "print(np.random.uniform(0,1,5))\n",
      "np.random.seed(42)\n",
      "print(np.random.uniform(0,1,5))\n"
     ],
     "language": "python",
     "metadata": {},
     "outputs": [
      {
       "output_type": "stream",
       "stream": "stdout",
       "text": [
        "[ 0.37454012  0.95071431  0.73199394  0.59865848  0.15601864]\n",
        "[ 0.37454012  0.95071431  0.73199394  0.59865848  0.15601864]\n"
       ]
      }
     ],
     "prompt_number": 1
    },
    {
     "cell_type": "code",
     "collapsed": false,
     "input": [
      "np.random.seed(42)\n",
      "print(np.random.uniform(-1,1,5))"
     ],
     "language": "python",
     "metadata": {},
     "outputs": [
      {
       "output_type": "stream",
       "stream": "stdout",
       "text": [
        "[-0.25091976  0.90142861  0.46398788  0.19731697 -0.68796272]\n"
       ]
      }
     ],
     "prompt_number": 2
    },
    {
     "cell_type": "code",
     "collapsed": false,
     "input": [
      "N=10\n",
      "X=np.random.uniform(0,1,N)\n",
      "print(X)\n",
      "p=0.47\n",
      "# 47% Chance of being Positive\n",
      "print(p-X) \n",
      "\n"
     ],
     "language": "python",
     "metadata": {},
     "outputs": [
      {
       "output_type": "stream",
       "stream": "stdout",
       "text": [
        "[ 0.66252228  0.31171108  0.52006802  0.54671028  0.18485446  0.96958463\n",
        "  0.77513282  0.93949894  0.89482735  0.59789998]\n",
        "[-0.19252228  0.15828892 -0.05006802 -0.07671028  0.28514554 -0.49958463\n",
        " -0.30513282 -0.46949894 -0.42482735 -0.12789998]\n"
       ]
      }
     ],
     "prompt_number": 10
    },
    {
     "cell_type": "code",
     "collapsed": false,
     "input": [
      "Gambles = np.sign(p-X)\n",
      "print(Gambles)"
     ],
     "language": "python",
     "metadata": {},
     "outputs": [
      {
       "output_type": "stream",
       "stream": "stdout",
       "text": [
        "[-1.  1. -1. -1.  1. -1. -1. -1. -1. -1.]\n"
       ]
      }
     ],
     "prompt_number": 12
    },
    {
     "cell_type": "code",
     "collapsed": false,
     "input": [
      "np.cumsum(Gambles)"
     ],
     "language": "python",
     "metadata": {},
     "outputs": [
      {
       "metadata": {},
       "output_type": "pyout",
       "prompt_number": 13,
       "text": [
        "array([-1.,  0., -1., -2., -1., -2., -3., -4., -5., -6.])"
       ]
      }
     ],
     "prompt_number": 13
    },
    {
     "cell_type": "code",
     "collapsed": false,
     "input": [
      "np.cumsum(Gambles)[N-1]"
     ],
     "language": "python",
     "metadata": {},
     "outputs": [
      {
       "metadata": {},
       "output_type": "pyout",
       "prompt_number": 15,
       "text": [
        "-6.0"
       ]
      }
     ],
     "prompt_number": 15
    },
    {
     "cell_type": "code",
     "collapsed": false,
     "input": [
      "A=20\n",
      "B=100\n",
      "p=0.40\n",
      "GB = A\n",
      "\n",
      "X=np.random.uniform(0,1,1)\n",
      "GB = GB + np.sign(p-X)\n",
      "print(GB)"
     ],
     "language": "python",
     "metadata": {},
     "outputs": [
      {
       "output_type": "stream",
       "stream": "stdout",
       "text": [
        "[ 21.]\n"
       ]
      }
     ],
     "prompt_number": 17
    },
    {
     "cell_type": "code",
     "collapsed": false,
     "input": [
      "def UpdateBalance(GB,p):\n",
      "    X=np.random.uniform(0,1,1)\n",
      "    GB = GB + np.sign(p-X)\n",
      "    return(GB)"
     ],
     "language": "python",
     "metadata": {},
     "outputs": [],
     "prompt_number": 23
    },
    {
     "cell_type": "code",
     "collapsed": false,
     "input": [
      "UpdateBalance(30,0.4)"
     ],
     "language": "python",
     "metadata": {},
     "outputs": [
      {
       "metadata": {},
       "output_type": "pyout",
       "prompt_number": 25,
       "text": [
        "array([ 29.])"
       ]
      }
     ],
     "prompt_number": 25
    },
    {
     "cell_type": "code",
     "collapsed": false,
     "input": [
      "GB=10\n",
      "while GB>0:\n",
      "    GB= UpdateBalance(GB,0.3)"
     ],
     "language": "python",
     "metadata": {},
     "outputs": [],
     "prompt_number": 29
    },
    {
     "cell_type": "code",
     "collapsed": false,
     "input": [
      "print(GB)"
     ],
     "language": "python",
     "metadata": {},
     "outputs": [
      {
       "output_type": "stream",
       "stream": "stdout",
       "text": [
        "[ 0.]\n"
       ]
      }
     ],
     "prompt_number": 30
    },
    {
     "cell_type": "markdown",
     "metadata": {},
     "source": [
      "### How Many Gambles?"
     ]
    },
    {
     "cell_type": "code",
     "collapsed": false,
     "input": [
      "GB=20\n",
      "p=0.45\n",
      "numGames=0\n",
      "while GB>0:\n",
      "    numGames=numGames+1\n",
      "    GB= UpdateBalance(GB,0.3)"
     ],
     "language": "python",
     "metadata": {},
     "outputs": [],
     "prompt_number": 31
    },
    {
     "cell_type": "code",
     "collapsed": false,
     "input": [
      "print(numGames)"
     ],
     "language": "python",
     "metadata": {},
     "outputs": [
      {
       "output_type": "stream",
       "stream": "stdout",
       "text": [
        "32\n"
       ]
      }
     ],
     "prompt_number": 32
    },
    {
     "cell_type": "markdown",
     "metadata": {},
     "source": [
      "### Another Function"
     ]
    },
    {
     "cell_type": "code",
     "collapsed": false,
     "input": [
      "def GameLength(GB,p):\n",
      "    numGames=0\n",
      "    while GB>0:\n",
      "        numGames=numGames+1\n",
      "        GB= UpdateBalance(GB,p)\n",
      "    return(numGames)    "
     ],
     "language": "python",
     "metadata": {},
     "outputs": [],
     "prompt_number": 34
    },
    {
     "cell_type": "code",
     "collapsed": false,
     "input": [
      "GameLength(40,0.3)"
     ],
     "language": "python",
     "metadata": {},
     "outputs": [
      {
       "metadata": {},
       "output_type": "pyout",
       "prompt_number": 35,
       "text": [
        "86"
       ]
      }
     ],
     "prompt_number": 35
    },
    {
     "cell_type": "code",
     "collapsed": false,
     "input": [
      "for x in range(0, 10):\n",
      "    Y=GameLength(40,0.3)\n",
      "    print \"Game Length %d\" % (Y)"
     ],
     "language": "python",
     "metadata": {},
     "outputs": [
      {
       "output_type": "stream",
       "stream": "stdout",
       "text": [
        "Game Length 76\n",
        "Game Length 118\n",
        "Game Length 118\n",
        "Game Length 114\n",
        "Game Length 102\n",
        "Game Length 82\n",
        "Game Length 148\n",
        "Game Length 136\n",
        "Game Length 134"
       ]
      },
      {
       "output_type": "stream",
       "stream": "stdout",
       "text": [
        "\n",
        "Game Length 130\n"
       ]
      }
     ],
     "prompt_number": 37
    },
    {
     "cell_type": "code",
     "collapsed": false,
     "input": [
      "N=100\n",
      "Durations=[]\n",
      "for x in range(0, N):\n",
      "    Durations.append(GameLength(40,0.3))"
     ],
     "language": "python",
     "metadata": {},
     "outputs": [],
     "prompt_number": 42
    },
    {
     "cell_type": "code",
     "collapsed": false,
     "input": [
      "print(Durations)"
     ],
     "language": "python",
     "metadata": {},
     "outputs": [
      {
       "output_type": "stream",
       "stream": "stdout",
       "text": [
        "[154, 82, 108, 122, 122, 116, 84, 114, 94, 122, 86, 116, 138, 136, 116, 118, 86, 66, 90, 112, 134, 124, 82, 78, 122, 106, 136, 92, 90, 72, 120, 76, 106, 124, 102, 120, 68, 74, 126, 100, 114, 152, 120, 90, 96, 132, 112, 148, 94, 58, 128, 112, 70, 90, 112, 98, 112, 96, 88, 92, 76, 104, 120, 94, 116, 100, 94, 86, 94, 102, 88, 78, 102, 62, 84, 116, 114, 86, 160, 78, 70, 108, 114, 130, 130, 74, 106, 116, 74, 96, 110, 160, 90, 102, 118, 102, 92, 124, 66, 58]\n"
       ]
      }
     ],
     "prompt_number": 43
    },
    {
     "cell_type": "code",
     "collapsed": false,
     "input": [
      "np.histogram(Durations)"
     ],
     "language": "python",
     "metadata": {},
     "outputs": [
      {
       "metadata": {},
       "output_type": "pyout",
       "prompt_number": 44,
       "text": [
        "(array([ 6, 11, 10, 17, 13, 18, 13,  7,  1,  4]),\n",
        " array([  58. ,   68.2,   78.4,   88.6,   98.8,  109. ,  119.2,  129.4,\n",
        "         139.6,  149.8,  160. ]))"
       ]
      }
     ],
     "prompt_number": 44
    },
    {
     "cell_type": "code",
     "collapsed": false,
     "input": [],
     "language": "python",
     "metadata": {},
     "outputs": []
    }
   ],
   "metadata": {}
  }
 ]
}