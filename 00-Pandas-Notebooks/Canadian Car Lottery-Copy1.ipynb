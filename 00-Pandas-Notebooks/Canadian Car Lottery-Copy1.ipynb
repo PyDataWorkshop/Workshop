{
 "cells": [
  {
   "cell_type": "markdown",
   "metadata": {},
   "source": [
    "Canadian Car Lottery\n",
    "================================\n",
    "\n",
    "- ***The Drunkard's Walk: How Randomness Rules Our Lives*** is a 2008 popular science book by American physicist and author Leonard Mlodinow\n",
    "\n",
    "\n",
    "- A few years ago Canadian lottery officials learned the importance of\n",
    "careful counting the hard way when they decided to give back some\n",
    "unclaimed prize money that had accumulated.\n",
    "- They purchased 500 cars as bonus prizes and programmed a computer\n",
    "to determine the winners by randomly selecting 500 numbers from their\n",
    "list of 2.4 million subscriber numbers.\n",
    "- The officials published the unsorted list of 500 winning numbers, promis-\n",
    "ing an automobile for each number listed.\n",
    "- To their embarrassment, one individual claimed (rightly) that he had\n",
    "won two cars.\n",
    "- With over 2 million numbers to choose from, how could the computer\n",
    "have randomly chosen the same number twice?\n",
    "- When pulling from a pool of 2.4 million, as in the case of the Canadian\n",
    "lottery, it takes many more than 500 numbers to have an even chance of\n",
    "a repeat.\n",
    "\n",
    "\n",
    "#### Inplementation\n",
    "- Pick 500 Ticket Numbers from population of size 2400000\n",
    "- Sampling with replacement\n",
    "- What is the probability of at least one ticket getting selected more than once\n",
    "- First, let us generate a random draw"
   ]
  },
  {
   "cell_type": "code",
   "execution_count": 77,
   "metadata": {
    "collapsed": false
   },
   "outputs": [
    {
     "data": {
      "text/plain": [
       "10-element Array{Float64,1}:\n",
       " 209490.0\n",
       " 127922.0\n",
       " 730077.0\n",
       " 862155.0\n",
       " 704567.0\n",
       " 107492.0\n",
       " 563550.0\n",
       " 428804.0\n",
       " 226531.0\n",
       " 361540.0"
      ]
     },
     "execution_count": 77,
     "metadata": {},
     "output_type": "execute_result"
    }
   ],
   "source": [
    "n=500;pop=2400000\n",
    "\n",
    "X= ceil(pop*rand(n));\n",
    "\n",
    "X[1:10]"
   ]
  },
  {
   "cell_type": "markdown",
   "metadata": {},
   "source": [
    "- While not absolutely necessary, we will convert X into a set of integers."
   ]
  },
  {
   "cell_type": "code",
   "execution_count": 78,
   "metadata": {
    "collapsed": false
   },
   "outputs": [
    {
     "data": {
      "text/plain": [
       "10-element Array{Int32,1}:\n",
       " 209490\n",
       " 127922\n",
       " 730077\n",
       " 862155\n",
       " 704567\n",
       " 107492\n",
       " 563550\n",
       " 428804\n",
       " 226531\n",
       " 361540"
      ]
     },
     "execution_count": 78,
     "metadata": {},
     "output_type": "execute_result"
    }
   ],
   "source": [
    "X=round(Int32,X)[1:10]"
   ]
  },
  {
   "cell_type": "code",
   "execution_count": 67,
   "metadata": {
    "collapsed": false
   },
   "outputs": [
    {
     "data": {
      "text/plain": [
       "1.566"
      ]
     },
     "execution_count": 67,
     "metadata": {},
     "output_type": "execute_result"
    }
   ],
   "source": [
    "count=0;n=500;pop=8000000;M=100000\n",
    "for (i in 1:M)\n",
    "    X= ceil(pop*rand(n))\n",
    "    X=round(Int32,X)\n",
    "    count=count+sum([size(X)!=size(unique(X))])\n",
    "end\n",
    "count/M *100"
   ]
  },
  {
   "cell_type": "markdown",
   "metadata": {},
   "source": [
    "- In the case of duplicates, find out what they are\n",
    "- will return an empty array in the case of no duplicates"
   ]
  },
  {
   "cell_type": "code",
   "execution_count": 75,
   "metadata": {
    "collapsed": false
   },
   "outputs": [],
   "source": [
    "Same=[0]\n",
    "for (i in 2:size(X)[1])\n",
    "    Same=[Same; sum([sort(X)[i]==sort(X)[i-1]])]\n",
    "end"
   ]
  },
  {
   "cell_type": "code",
   "execution_count": 76,
   "metadata": {
    "collapsed": false
   },
   "outputs": [
    {
     "data": {
      "text/plain": [
       "0-element Array{Int32,1}"
      ]
     },
     "execution_count": 76,
     "metadata": {},
     "output_type": "execute_result"
    }
   ],
   "source": [
    "sort(X)[Same.==1]"
   ]
  },
  {
   "cell_type": "code",
   "execution_count": null,
   "metadata": {
    "collapsed": true
   },
   "outputs": [],
   "source": []
  },
  {
   "cell_type": "code",
   "execution_count": null,
   "metadata": {
    "collapsed": true
   },
   "outputs": [],
   "source": []
  }
 ],
 "metadata": {
  "kernelspec": {
   "display_name": "Julia 0.4.5",
   "language": "julia",
   "name": "julia-0.4"
  },
  "language_info": {
   "file_extension": ".jl",
   "mimetype": "application/julia",
   "name": "julia",
   "version": "0.4.5"
  }
 },
 "nbformat": 4,
 "nbformat_minor": 0
}
