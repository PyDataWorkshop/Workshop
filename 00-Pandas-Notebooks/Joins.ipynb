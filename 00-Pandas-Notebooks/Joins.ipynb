{
 "metadata": {
  "name": "",
  "signature": "sha256:cee64bc3b743a2143fd58aca07ec8b5e432047b7d482db53cfd355714835ac47"
 },
 "nbformat": 3,
 "nbformat_minor": 0,
 "worksheets": [
  {
   "cells": [
    {
     "cell_type": "code",
     "collapsed": false,
     "input": [
      "import pandas as pd\n",
      "import os as os\n",
      "import numpy as np\n",
      "import matplotlib.pyplot as plt\n",
      "pd.set_option('max_columns', 50)\n",
      "\n",
      "os.getcwd()"
     ],
     "language": "python",
     "metadata": {},
     "outputs": [
      {
       "metadata": {},
       "output_type": "pyout",
       "prompt_number": 2,
       "text": [
        "'C:\\\\Users\\\\Kevin\\\\Anaconda'"
       ]
      }
     ],
     "prompt_number": 2
    },
    {
     "cell_type": "code",
     "collapsed": false,
     "input": [
      "left_frame = pd.DataFrame({'key': range(5), \n",
      "                           'left_value': ['a', 'b', 'c', 'd', 'e']})\n",
      "right_frame = pd.DataFrame({'key': range(2, 7), \n",
      "                           'right_value': ['f', 'g', 'h', 'i', 'j']})\n",
      "print left_frame\n",
      "print '\\n'\n",
      "print right_frame"
     ],
     "language": "python",
     "metadata": {},
     "outputs": [
      {
       "output_type": "stream",
       "stream": "stdout",
       "text": [
        "   key left_value\n",
        "0    0          a\n",
        "1    1          b\n",
        "2    2          c\n",
        "3    3          d\n",
        "4    4          e\n",
        "\n",
        "\n",
        "   key right_value\n",
        "0    2           f\n",
        "1    3           g\n",
        "2    4           h\n",
        "3    5           i\n",
        "4    6           j\n"
       ]
      }
     ],
     "prompt_number": 3
    },
    {
     "cell_type": "code",
     "collapsed": false,
     "input": [
      "### Inner Join\n",
      "print pd.merge(left_frame, right_frame, on='key', how='inner')"
     ],
     "language": "python",
     "metadata": {},
     "outputs": []
    },
    {
     "cell_type": "code",
     "collapsed": false,
     "input": [
      "### Left Outer Join\n",
      "print pd.merge(left_frame, right_frame, on='key', how='left')"
     ],
     "language": "python",
     "metadata": {},
     "outputs": []
    },
    {
     "cell_type": "code",
     "collapsed": false,
     "input": [
      "### Right Outer Join\n",
      "print pd.merge(left_frame, right_frame, on='key', how='right')"
     ],
     "language": "python",
     "metadata": {},
     "outputs": []
    },
    {
     "cell_type": "code",
     "collapsed": false,
     "input": [
      "### Full Outer Join\n",
      "\n",
      "print pd.merge(left_frame, right_frame, on='key', how='outer')"
     ],
     "language": "python",
     "metadata": {},
     "outputs": []
    },
    {
     "cell_type": "code",
     "collapsed": false,
     "input": [
      "### Concatenation\n",
      "pd.concat([left_frame, right_frame], axis=1)"
     ],
     "language": "python",
     "metadata": {},
     "outputs": []
    }
   ],
   "metadata": {}
  }
 ]
}