{
 "metadata": {
  "name": "",
  "signature": "sha256:c1269814f0ef604462e95cd450bc76367f8f7783810c8d8a8013dad4063cac77"
 },
 "nbformat": 3,
 "nbformat_minor": 0,
 "worksheets": [
  {
   "cells": [
    {
     "cell_type": "code",
     "collapsed": false,
     "input": [
      "import os\n",
      "import pandas as pd\n",
      "\n",
      "print(\"Current Working Directory\")\n",
      "print(os.getcwd() + \"\\n\")\n"
     ],
     "language": "python",
     "metadata": {},
     "outputs": [
      {
       "output_type": "stream",
       "stream": "stdout",
       "text": [
        "Current Working Directory\n",
        "C:\\Users\\Kevin\\Anaconda\n",
        "\n"
       ]
      }
     ],
     "prompt_number": 1
    },
    {
     "cell_type": "code",
     "collapsed": false,
     "input": [
      "#Change Directory\n",
      "#Tip - Use double backslashes\n",
      "# Reason : Escape Characters in Text Processing\n",
      "os.chdir(\"C:\\\\Users\\\\Kevin\\\\Anaconda\")"
     ],
     "language": "python",
     "metadata": {},
     "outputs": [],
     "prompt_number": 7
    },
    {
     "cell_type": "code",
     "collapsed": false,
     "input": [],
     "language": "python",
     "metadata": {},
     "outputs": []
    }
   ],
   "metadata": {}
  }
 ]
}