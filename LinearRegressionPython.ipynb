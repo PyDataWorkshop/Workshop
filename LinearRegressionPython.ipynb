{
 "cells": [
  {
   "cell_type": "code",
   "execution_count": null,
   "metadata": {
    "collapsed": true
   },
   "outputs": [],
   "source": [
    "from __future__ import division\n",
    "from __future__ import print_function\n",
    "import scipy\n",
    "import scipy.stats as stats\n",
    "import sys\n",
    "from pylab import *\n",
    "from numpy import *\n",
    "# End Imports"
   ]
  },
  {
   "cell_type": "code",
   "execution_count": null,
   "metadata": {
    "collapsed": true
   },
   "outputs": [],
   "source": [
    "x = randn(10)\n",
    "y = x + randn(10)\n",
    "linregress = stats.linregress\n",
    "slope, intercept, rvalue, pvalue, stderr = linregress(x,y)\n",
    "slope\n",
    "rsquare = rvalue**2\n",
    "rsquare\n",
    "x.shape = 10,1\n",
    "y.shape = 10,1\n",
    "z = hstack((x,y))\n",
    "linregress(z) # Alternative form, [x y]\n"
   ]
  },
  {
   "cell_type": "code",
   "execution_count": null,
   "metadata": {
    "collapsed": false
   },
   "outputs": [],
   "source": [
    "% - https://dataaspirant.wordpress.com/2014/12/20/linear-regression-implementation-in-python/\n",
    "\n",
    "ZooZoo have the following data set\n",
    "\n",
    "% Table Here\n",
    " \n",
    "\n",
    "\n",
    "No.    \n",
    " \n",
    "        square_feet       \n",
    " \n",
    "         price     \n",
    " \n",
    "\n",
    "\n",
    "1\n",
    " \n",
    "150\n",
    " \n",
    "6450\n",
    " \n",
    "\n",
    "\n",
    "2\n",
    " \n",
    "200\n",
    " \n",
    "7450\n",
    " \n",
    "\n",
    "\n",
    "3\n",
    " \n",
    "250\n",
    " \n",
    "8450\n",
    " \n",
    "\n",
    "\n",
    "4\n",
    " \n",
    "300\n",
    " \n",
    "9450\n",
    " \n",
    "\n",
    "\n",
    "5\n",
    " \n",
    "350\n",
    " \n",
    "11450\n",
    " \n",
    "\n",
    "\n",
    "6\n",
    " \n",
    "400\n",
    " \n",
    "15450\n",
    " \n",
    "\n",
    "\n",
    "7\n",
    " \n",
    "600\n",
    " \n",
    "18450\n",
    " \n",
    "\n",
    " \n",
    " \n",
    " \n",
    " \n",
    " \n",
    " \n"
   ]
  },
  {
   "cell_type": "markdown",
   "metadata": {},
   "source": [
    "About data set:\n",
    "<ul>\n",
    " <li>Square feet is the  Area of house.\n",
    " <li>Price is the corresponding cost of  that house.\n",
    "</ul>\n",
    " \n",
    "Steps to Follow :\n",
    "<ul>\n",
    " <li>As we learn linear regression we know that we have to find linear line for this data so that we can get  θ0 and θ1.\n",
    " <li>As you remember our hypothesis equation looks like this\n",
    "</ul> \n",
    "\n",
    "\n",
    "where:\n",
    "<ul>\n",
    " <li>hθ(x) is nothing but the value price(which we are going to predicate ) for particular square_feet  ( means price is a linear function of square_feet)\n",
    " <li>$\\theta_0$ is a constant\n",
    " <li>$\\theta_1$ is the regression coefficient\n",
    "</ul>"
   ]
  },
  {
   "cell_type": "markdown",
   "metadata": {},
   "source": [
    "As we clear what we have to do, let’s start coding.\n",
    " \n",
    "STEP – 1 :\n",
    "<ul>\n",
    "<li> First open your favorite text editor and name it as predict_house_price.py.\n",
    "<li> The below packages we gonna use in our program ,so  copy them in your predict_house_price.py file.\n",
    "</ul>"
   ]
  },
  {
   "cell_type": "code",
   "execution_count": 1,
   "metadata": {
    "collapsed": false
   },
   "outputs": [],
   "source": [
    "# Required Packages\n",
    "\n",
    "import matplotlib.pyplot as plt\n",
    "import numpy as np\n",
    "import pandas as pd\n",
    "from sklearn import datasets, linear_model"
   ]
  },
  {
   "cell_type": "markdown",
   "metadata": {},
   "source": [
    "<ul>\n",
    " <li>Just run your code once. if your program is error free then most of the job was done. If you facing  any errors , this means you missed some  packages so please go to this packages page  \n",
    " <li>Install all the packages in that blog post and run your code once again . This time most probably you will never face any problem.\n",
    " <li>Means your program is error free now so we can go to STEP – 2.\n",
    "</ul>\n",
    "\n",
    "STEP – 2\n",
    "<ul>\n",
    " <li>I stored our data set in to a csv file with name input_data.csv\n",
    " <li>So let’s write a function to get our data into X values ( square_feet  ) Y values (Price)\n",
    "</ul>\n"
   ]
  },
  {
   "cell_type": "code",
   "execution_count": 2,
   "metadata": {
    "collapsed": false
   },
   "outputs": [],
   "source": [
    "\n",
    "# Function to get data\n",
    "def get_data(file_name):\n",
    " data = pd.read_csv(file_name)\n",
    " X_parameter = []\n",
    " Y_parameter = []\n",
    " for single_square_feet ,single_price_value in zip(data['square_feet'],data['price']):\n",
    "       X_parameter.append([float(single_square_feet)])\n",
    "       Y_parameter.append(float(single_price_value))\n",
    " return X_parameter,Y_parameter\n",
    " \n"
   ]
  },
  {
   "cell_type": "markdown",
   "metadata": {
    "collapsed": false
   },
   "source": [
    "#### Reading csv data to pandas DataFrame.\n",
    " \n",
    "\n",
    " \n",
    "Converting pandas dataframe data to X_parameter and Y_parameter data returning them\n",
    " \n",
    "So let’s print our X_parameters and Y_parameters\n",
    " \n",
    "<code>    \n",
    "X,Y = get_data('input_data.csv')\n",
    "print X\n",
    "print Y\n",
    "</code>\n",
    " \n"
   ]
  },
  {
   "cell_type": "code",
   "execution_count": null,
   "metadata": {
    "collapsed": false
   },
   "outputs": [],
   "source": [
    "\n",
    "\\subsection*{Script Output}\n",
    "\n",
    " [[150.0], [200.0], [250.0], [300.0], [350.0], [400.0], [600.0]]\n",
    "[6450.0, 7450.0, 8450.0, 9450.0, 11450.0, 15450.0, 18450.0]\n",
    "[Finished in 0.7s] \n",
    "Step – 3"
   ]
  },
  {
   "cell_type": "markdown",
   "metadata": {
    "collapsed": false
   },
   "source": [
    "we converted data to <code>X_parameters</code> and <code>Y_parameter</code> \n",
    "so let’s fit our <code>X_parameters</code> and <code>Y_parameter</code> to Linear Regression model\n",
    " \n",
    "So we gonna write a function which will take  <code>X_parameters</code>, <code>Y_parameter</code> \n",
    "and the value you gonna predict  as input and return the θ0 ,θ1  and predicted value\n",
    " \n"
   ]
  },
  {
   "cell_type": "code",
   "execution_count": 3,
   "metadata": {
    "collapsed": false
   },
   "outputs": [],
   "source": [
    "# Function for Fitting our data to Linear model\n",
    "def linear_model_main(X_parameters,Y_parameters,predict_value):\n",
    "\n",
    " # Create linear regression object\n",
    " regr = linear_model.LinearRegression()\n",
    " regr.fit(X_parameters, Y_parameters)\n",
    " predict_outcome = regr.predict(predict_value)\n",
    " predictions = {}\n",
    " predictions['intercept'] = regr.intercept_\n",
    " predictions['coefficient'] = regr.coef_\n",
    " predictions['predicted_value'] = predict_outcome\n",
    " return predictions"
   ]
  },
  {
   "cell_type": "markdown",
   "metadata": {
    "collapsed": false
   },
   "source": [
    "\n",
    "First we are creating an linear model and the training it with our X_parameters and Y_parameters\n",
    " \n",
    " \n",
    "we are creating one dictionary with name predictions and storing θ0 ,θ1  and predicted values. and returning predictions dictionary as an output.\n",
    " \n",
    "So let’s call our function with predicting value as 700\n"
   ]
  },
  {
   "cell_type": "code",
   "execution_count": null,
   "metadata": {
    "collapsed": false
   },
   "outputs": [],
   "source": [
    "X,Y = get_data('input_data.csv')\n",
    "predictvalue = 700\n",
    "result = linear_model_main(X,Y,predictvalue)\n",
    "print \"Intercept value \" , result['intercept']\n",
    "print \"coefficient\" , result['coefficient']\n",
    "print \"Predicted value: \",result['predicted_value']"
   ]
  },
  {
   "cell_type": "code",
   "execution_count": null,
   "metadata": {
    "collapsed": false
   },
   "outputs": [],
   "source": [
    "Script Output:\n",
    " Intercept value 1771.80851064\n",
    "coefficient [ 28.77659574]\n",
    "Predicted value: [ 21915.42553191]\n",
    "[Finished in 0.7s] "
   ]
  },
  {
   "cell_type": "markdown",
   "metadata": {
    "collapsed": false
   },
   "source": [
    "Here Intercept value is nothing but   θ0 value and coefficient value is nothing but  θ1 value.\n",
    " \n",
    "We got the predicted values as 21915.4255 means we done our job of predicting the house price.\n",
    " \n",
    "For checking purpose we have to see how our data fit to linear regression.\n",
    "\n",
    "So we have to write a function which takes X_parameters and Y_parameters as input and show the linear line fitting for our data.\n"
   ]
  },
  {
   "cell_type": "code",
   "execution_count": null,
   "metadata": {
    "collapsed": false
   },
   "outputs": [],
   "source": [
    "# Function to show the resutls of linear fit model\n",
    "def show_linear_line(X_parameters,Y_parameters):\n",
    " # Create linear regression object\n",
    " regr = linear_model.LinearRegression()\n",
    " regr.fit(X_parameters, Y_parameters)\n",
    " plt.scatter(X_parameters,Y_parameters,color='blue')\n",
    " plt.plot(X_parameters,regr.predict(X_parameters),color='red',linewidth=4)\n",
    " plt.xticks(())\n",
    " plt.yticks(())\n",
    " plt.show()"
   ]
  },
  {
   "cell_type": "code",
   "execution_count": null,
   "metadata": {
    "collapsed": false
   },
   "outputs": [],
   "source": [
    "# So let call our show_linear_line Function\n",
    " \n",
    "show_linear_line(X,Y)"
   ]
  }
 ],
 "metadata": {
  "kernelspec": {
   "display_name": "Python 3",
   "language": "python",
   "name": "python3"
  },
  "language_info": {
   "codemirror_mode": {
    "name": "ipython",
    "version": 3
   },
   "file_extension": ".py",
   "mimetype": "text/x-python",
   "name": "python",
   "nbconvert_exporter": "python",
   "pygments_lexer": "ipython3",
   "version": "3.5.1"
  }
 },
 "nbformat": 4,
 "nbformat_minor": 0
}
