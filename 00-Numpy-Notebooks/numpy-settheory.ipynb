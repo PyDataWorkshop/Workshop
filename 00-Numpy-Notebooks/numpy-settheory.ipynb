{
 "cells": [
  {
   "cell_type": "code",
   "execution_count": null,
   "metadata": {
    "collapsed": true
   },
   "outputs": [],
   "source": [
    "Set Functions\n",
    "===================================\n",
    "\n",
    "\\subsubsection*{\\texttt{unique}}\n",
    "\\texttt{unique} returns the unique elements in an array. It only operates on the entire array. An optional second\n",
    "argument can be returned which contains the original indices of the unique elements.\n"
   ]
  },
  {
   "cell_type": "code",
   "execution_count": 3,
   "metadata": {
    "collapsed": false
   },
   "outputs": [
    {
     "ename": "SyntaxError",
     "evalue": "invalid syntax (<ipython-input-3-b5ab2395265c>, line 3)",
     "output_type": "error",
     "traceback": [
      "\u001b[1;36m  File \u001b[1;32m\"<ipython-input-3-b5ab2395265c>\"\u001b[1;36m, line \u001b[1;32m3\u001b[0m\n\u001b[1;33m    unique(x)\u001b[0m\n\u001b[1;37m         ^\u001b[0m\n\u001b[1;31mSyntaxError\u001b[0m\u001b[1;31m:\u001b[0m invalid syntax\n"
     ]
    }
   ],
   "source": [
    "from numpy import *\n",
    "x = ceiling(10*random.randn(20)\n",
    "unique(x)\n"
   ]
  },
  {
   "cell_type": "code",
   "execution_count": 4,
   "metadata": {
    "collapsed": false
   },
   "outputs": [
    {
     "ename": "IndentationError",
     "evalue": "unexpected indent (<ipython-input-4-651168b08a27>, line 3)",
     "output_type": "error",
     "traceback": [
      "\u001b[1;36m  File \u001b[1;32m\"<ipython-input-4-651168b08a27>\"\u001b[1;36m, line \u001b[1;32m3\u001b[0m\n\u001b[1;33m    array([0, 2, 4], dtype=int64)\u001b[0m\n\u001b[1;37m    ^\u001b[0m\n\u001b[1;31mIndentationError\u001b[0m\u001b[1;31m:\u001b[0m unexpected indent\n"
     ]
    }
   ],
   "source": [
    "y,ind = unique(x, True)\n",
    "ind\n",
    "\tarray([0, 2, 4], dtype=int64)\n",
    "x.flat[ind]\n",
    "\tarray([ 0.11335982, 0.26617443, 1.34424621])\n"
   ]
  },
  {
   "cell_type": "code",
   "execution_count": 5,
   "metadata": {
    "collapsed": false
   },
   "outputs": [
    {
     "ename": "SyntaxError",
     "evalue": "unexpected character after line continuation character (<ipython-input-5-297fe51c6600>, line 2)",
     "output_type": "error",
     "traceback": [
      "\u001b[1;36m  File \u001b[1;32m\"<ipython-input-5-297fe51c6600>\"\u001b[1;36m, line \u001b[1;32m2\u001b[0m\n\u001b[1;33m    \\subsubsection*{\\texttt{in1d}}\u001b[0m\n\u001b[1;37m                                  ^\u001b[0m\n\u001b[1;31mSyntaxError\u001b[0m\u001b[1;31m:\u001b[0m unexpected character after line continuation character\n"
     ]
    }
   ],
   "source": [
    "%---------------------------------------%\n",
    "\\subsubsection*{\\texttt{in1d}}\n",
    "\\texttt{in1d} returns a Boolean array with the same size as the first input array indicating the elements which are\n",
    "also in a second array.\n",
    "\\begin{framed}\n",
    "\t\\begin{verbatim}\n",
    "\t>>> x = arange(10.0)\n",
    "\t>>> y = arange(5.0,15.0)\n",
    "\t>>> in1d(x,y)\n",
    "\tarray([False, False, False, False, False, \n",
    "\tTrue, True, True, True, True], dtype=bool)\n",
    "\t\\end{verbatim}\n",
    "\\end{framed}"
   ]
  },
  {
   "cell_type": "code",
   "execution_count": 6,
   "metadata": {
    "collapsed": false
   },
   "outputs": [
    {
     "ename": "SyntaxError",
     "evalue": "unexpected character after line continuation character (<ipython-input-6-f33d192b56b1>, line 2)",
     "output_type": "error",
     "traceback": [
      "\u001b[1;36m  File \u001b[1;32m\"<ipython-input-6-f33d192b56b1>\"\u001b[1;36m, line \u001b[1;32m2\u001b[0m\n\u001b[1;33m    \\subsubsection*{\\texttt{intersect1d}}\u001b[0m\n\u001b[1;37m                                         ^\u001b[0m\n\u001b[1;31mSyntaxError\u001b[0m\u001b[1;31m:\u001b[0m unexpected character after line continuation character\n"
     ]
    }
   ],
   "source": [
    "%---------------------------------------%\n",
    "\\subsubsection*{\\texttt{intersect1d}}\n",
    "\\texttt{intersect1d} is similar to \\texttt{in1d}, except that it returns the elements rather than a Boolean array, and only\n",
    "unique elements are returned. It is equivalent to \\texttt{unique(x.flat[in1d(x,y)])}.\n",
    "\\begin{framed}\n",
    "\t\\begin{verbatim}\n",
    "\t>>> x = arange(10.0)\n",
    "\t>>> y = arange(5.0,15.0)\n",
    "\t>>> intersect1d(x,y)\n",
    "\tarray([ 5., 6., 7., 8., 9.])\n",
    "\t\\end{verbatim}\n",
    "\\end{framed}"
   ]
  },
  {
   "cell_type": "code",
   "execution_count": 7,
   "metadata": {
    "collapsed": false
   },
   "outputs": [
    {
     "ename": "SyntaxError",
     "evalue": "unexpected character after line continuation character (<ipython-input-7-afcfa492ed69>, line 5)",
     "output_type": "error",
     "traceback": [
      "\u001b[1;36m  File \u001b[1;32m\"<ipython-input-7-afcfa492ed69>\"\u001b[1;36m, line \u001b[1;32m5\u001b[0m\n\u001b[1;33m    \\subsubsection*{\\texttt{union1d}}\u001b[0m\n\u001b[1;37m                                     ^\u001b[0m\n\u001b[1;31mSyntaxError\u001b[0m\u001b[1;31m:\u001b[0m unexpected character after line continuation character\n"
     ]
    }
   ],
   "source": [
    "\n",
    "\n",
    "\n",
    "%---------------------------------------%\n",
    "\\subsubsection*{\\texttt{union1d}}\n",
    "\\texttt{union1d} returns the unique set of elements in 2 arrays.\n",
    "\\begin{framed}\n",
    "\t\\begin{verbatim}\n",
    "\t>>> x = arange(10.0)\n",
    "\t>>> y = arange(5.0,15.0)\n",
    "\t>>> union1d(x,y)\n",
    "\tarray([ 0., 1., 2., 3., 4., 5., 6., 7., 8., 9., 10.,\n",
    "\t11., 12., 13., 14.])\n",
    "\t\\end{verbatim}\n",
    "\\end{framed}\n"
   ]
  },
  {
   "cell_type": "markdown",
   "metadata": {},
   "source": [
    "<h4><code>setdiff1d()</code></h4>\n",
    "<ul>\n",
    "<li> <code>setdiff1d()</code> returns the set of the elements which are only in the first array but not in the second array.\n",
    "</ul>"
   ]
  },
  {
   "cell_type": "code",
   "execution_count": 11,
   "metadata": {
    "collapsed": false
   },
   "outputs": [
    {
     "ename": "TypeError",
     "evalue": "'float' object cannot be interpreted as an integer",
     "output_type": "error",
     "traceback": [
      "\u001b[1;31m---------------------------------------------------------------------------\u001b[0m",
      "\u001b[1;31mTypeError\u001b[0m                                 Traceback (most recent call last)",
      "\u001b[1;32m<ipython-input-11-4f42cf14be16>\u001b[0m in \u001b[0;36m<module>\u001b[1;34m()\u001b[0m\n\u001b[1;32m----> 1\u001b[1;33m \u001b[0mx\u001b[0m \u001b[1;33m=\u001b[0m \u001b[0mrange\u001b[0m\u001b[1;33m(\u001b[0m\u001b[1;36m10.0\u001b[0m\u001b[1;33m)\u001b[0m\u001b[1;33m\u001b[0m\u001b[0m\n\u001b[0m\u001b[0;32m      2\u001b[0m \u001b[0my\u001b[0m \u001b[1;33m=\u001b[0m \u001b[0mrange\u001b[0m\u001b[1;33m(\u001b[0m\u001b[1;36m5.0\u001b[0m\u001b[1;33m,\u001b[0m\u001b[1;36m15.0\u001b[0m\u001b[1;33m)\u001b[0m\u001b[1;33m\u001b[0m\u001b[0m\n\u001b[0;32m      3\u001b[0m \u001b[0msetdiff1d\u001b[0m\u001b[1;33m(\u001b[0m\u001b[0mx\u001b[0m\u001b[1;33m,\u001b[0m\u001b[0my\u001b[0m\u001b[1;33m)\u001b[0m\u001b[1;33m\u001b[0m\u001b[0m\n",
      "\u001b[1;31mTypeError\u001b[0m: 'float' object cannot be interpreted as an integer"
     ]
    }
   ],
   "source": [
    "x = range(10.0)\n",
    "y = range(5.0,15.0)\n",
    "setdiff1d(x,y)\n"
   ]
  },
  {
   "cell_type": "markdown",
   "metadata": {},
   "source": [
    "<h4><code>setxor1d()</code></h4>\n",
    "<ul>\n",
    "<li> <code>setxor1d()</code> returns the set of elements which are in one (and only one) of two arrays.\n",
    "</ul>"
   ]
  },
  {
   "cell_type": "code",
   "execution_count": 9,
   "metadata": {
    "collapsed": false
   },
   "outputs": [
    {
     "ename": "SyntaxError",
     "evalue": "unexpected character after line continuation character (<ipython-input-9-f087722891c0>, line 3)",
     "output_type": "error",
     "traceback": [
      "\u001b[1;36m  File \u001b[1;32m\"<ipython-input-9-f087722891c0>\"\u001b[1;36m, line \u001b[1;32m3\u001b[0m\n\u001b[1;33m    \\subsubsection*{\\texttt{setxor1d}}\u001b[0m\n\u001b[1;37m                                      ^\u001b[0m\n\u001b[1;31mSyntaxError\u001b[0m\u001b[1;31m:\u001b[0m unexpected character after line continuation character\n"
     ]
    }
   ],
   "source": [
    "x = arange(10.0)\n",
    "y = arange(5.0,15.0)\n",
    "setxor1d(x,y)\n"
   ]
  },
  {
   "cell_type": "code",
   "execution_count": null,
   "metadata": {
    "collapsed": true
   },
   "outputs": [],
   "source": []
  },
  {
   "cell_type": "code",
   "execution_count": null,
   "metadata": {
    "collapsed": true
   },
   "outputs": [],
   "source": []
  }
 ],
 "metadata": {
  "kernelspec": {
   "display_name": "Python 3",
   "language": "python",
   "name": "python3"
  },
  "language_info": {
   "codemirror_mode": {
    "name": "ipython",
    "version": 3
   },
   "file_extension": ".py",
   "mimetype": "text/x-python",
   "name": "python",
   "nbconvert_exporter": "python",
   "pygments_lexer": "ipython3",
   "version": "3.5.1"
  }
 },
 "nbformat": 4,
 "nbformat_minor": 0
}
