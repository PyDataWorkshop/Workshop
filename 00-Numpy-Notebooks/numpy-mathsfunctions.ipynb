{
 "cells": [
  {
   "cell_type": "markdown",
   "metadata": {
    "collapsed": true
   },
   "source": [
    "More Mathematical Functions\n",
    "================================================"
   ]
  },
  {
   "cell_type": "code",
   "execution_count": 5,
   "metadata": {
    "collapsed": true
   },
   "outputs": [],
   "source": [
    "from numpy import *"
   ]
  },
  {
   "cell_type": "markdown",
   "metadata": {
    "collapsed": true
   },
   "source": [
    "<h4>Complex Numbers</h4>\n",
    "<code>real</code>\n",
    "<ul>\n",
    "\t<li> <code>real</code> returns the real elements of a complex array. \n",
    "\t<li> <code>real</code> can be called either as a function <code>real(x)</code> or as an\n",
    "\tattribute <code>x.real</code>.\n",
    "</ul>\n",
    "\n",
    "<h4><code>imag</code></h4>\n",
    "<ul>\n",
    "\t<li>  <code>imag()</code> returns the complex elements of a complex array.\n",
    "\t<li>  <code>imag()</code> can be called either as a function \\texttt{imag(x)} or\n",
    "\tas an attribute <code>x.imag</code>.\n",
    "</ul>\n",
    "\n",
    "<h4><code>conj, conjugate<code></h4>\n",
    "<ul>\n",
    "\t<li> <code>conj</code> returns the element-by-element complex conjugate for a complex array. \n",
    "\t<li> <code>conj</code> can be called either as\n",
    "\ta function <code>conj(x)</code> or as a method <code>x.conj()</code>. \n",
    "\t<li> <code>conjugate</code> is identical to <code>conj</code>.\n",
    "</ul>\n"
   ]
  },
  {
   "cell_type": "markdown",
   "metadata": {
    "collapsed": true
   },
   "source": [
    "<h3>Sorting and Extreme Values</h3>\n",
    "\n",
    "\\subsubsection*{\\texttt{sort}}\n",
    "\\texttt{sort} sorts the elements of an array. By default, it sorts using the last axis of x. \n",
    "\n",
    "\n",
    "\n",
    "\n",
    "\n"
   ]
  },
  {
   "cell_type": "code",
   "execution_count": 8,
   "metadata": {
    "collapsed": false
   },
   "outputs": [
    {
     "data": {
      "text/plain": [
       "array([[ 0.35358658,  0.96530544],\n",
       "       [ 1.18474905,  0.09439589],\n",
       "       [-0.68184884, -0.23306285],\n",
       "       [ 0.77485772,  0.3741397 ]])"
      ]
     },
     "execution_count": 8,
     "metadata": {},
     "output_type": "execute_result"
    }
   ],
   "source": [
    "x = random.randn(4,2)\n",
    "x\n"
   ]
  },
  {
   "cell_type": "code",
   "execution_count": 9,
   "metadata": {
    "collapsed": false
   },
   "outputs": [
    {
     "data": {
      "text/plain": [
       "array([[ 0.35358658,  0.96530544],\n",
       "       [ 0.09439589,  1.18474905],\n",
       "       [-0.68184884, -0.23306285],\n",
       "       [ 0.3741397 ,  0.77485772]])"
      ]
     },
     "execution_count": 9,
     "metadata": {},
     "output_type": "execute_result"
    }
   ],
   "source": [
    "sort(x)\n"
   ]
  },
  {
   "cell_type": "markdown",
   "metadata": {
    "collapsed": true
   },
   "source": [
    "<ul>\n",
    "<li> <code>sort</code> uses an optional second\n",
    "argument to indicate the axis to use for sorting (i.e. 0 for column-by-column, None for sorting all elements).\n",
    "<li> \n",
    "<code>sort</code>does not alter the input when called as function, unlike the method version of <code>sort</code>.\n",
    "</ul>\n",
    "\n"
   ]
  },
  {
   "cell_type": "code",
   "execution_count": 10,
   "metadata": {
    "collapsed": false
   },
   "outputs": [
    {
     "data": {
      "text/plain": [
       "array([[-0.68184884, -0.23306285],\n",
       "       [ 0.35358658,  0.09439589],\n",
       "       [ 0.77485772,  0.3741397 ],\n",
       "       [ 1.18474905,  0.96530544]])"
      ]
     },
     "execution_count": 10,
     "metadata": {},
     "output_type": "execute_result"
    }
   ],
   "source": [
    "\n",
    "sort(x, 0)"
   ]
  },
  {
   "cell_type": "code",
   "execution_count": 11,
   "metadata": {
    "collapsed": false
   },
   "outputs": [
    {
     "data": {
      "text/plain": [
       "array([-0.68184884, -0.23306285,  0.09439589,  0.35358658,  0.3741397 ,\n",
       "        0.77485772,  0.96530544,  1.18474905])"
      ]
     },
     "execution_count": 11,
     "metadata": {},
     "output_type": "execute_result"
    }
   ],
   "source": [
    "\n",
    "\n",
    "sort(x, axis=None)\n"
   ]
  },
  {
   "cell_type": "markdown",
   "metadata": {
    "collapsed": true
   },
   "source": [
    "<h4><code>ndarray.sort, argsort</code></h4>\n",
    "<ul>\n",
    "<li> <code>ndarray.sort</code> is a method for ndarrays which performs an in-place sort. \n",
    "<li> It economizes on memory use,\n",
    "\talthough <code>x.sort()</code> is different from x after the function, unlike a call to <code>sort(x)</code>. \n",
    "<li> <code>x.sort()</code> sorts along\n",
    "\tthe last axis by default, and takes the same optional arguments as <code>sort(x)</code>.\n",
    "<li> <code>argsort</code> returns the indices\n",
    "\tnecessary to produce a sorted array, but does not actually sort the data. \n",
    "<li> It is otherwise identical to <code>sort</code>,\n",
    "\tand can be used either as a function or a method.\n",
    "</ul>\n",
    "\n"
   ]
  },
  {
   "cell_type": "code",
   "execution_count": 20,
   "metadata": {
    "collapsed": false
   },
   "outputs": [
    {
     "name": "stdout",
     "output_type": "stream",
     "text": [
      "[-0.80743876 -1.32615976  0.42152585]\n",
      "\n",
      " sorted: \n",
      "\n",
      "[-1.32615976 -0.80743876  0.42152585]\n",
      "\n",
      " x remains unsorted: \n",
      "\n",
      "[-0.80743876 -1.32615976  0.42152585]\n"
     ]
    }
   ],
   "source": [
    "x = random.randn(3)\n",
    "print(x)\n",
    "\n",
    "print(\"\\n sorted: \\n\")\n",
    "print(sort(x))\n",
    "\n",
    "print(\"\\n x remains unsorted: \\n\")\n",
    "print(x)"
   ]
  },
  {
   "cell_type": "code",
   "execution_count": 18,
   "metadata": {
    "collapsed": false
   },
   "outputs": [
    {
     "data": {
      "text/plain": [
       "array([-0.34247698, -0.04197494,  0.8521229 ])"
      ]
     },
     "execution_count": 18,
     "metadata": {},
     "output_type": "execute_result"
    }
   ],
   "source": [
    "x.sort() # Inplace,changes x\n",
    "\n",
    "x\n"
   ]
  },
  {
   "cell_type": "code",
   "execution_count": null,
   "metadata": {
    "collapsed": true
   },
   "outputs": [],
   "source": [
    "<h4>\\texttt{max}, \\texttt{amax}, \\texttt{argmax}, \\texttt{min}, \\texttt{amin}, \\texttt{argmin}</h4>\n",
    "<ul>\n",
    "<li> \\texttt{max} and \\texttt{min} return the maximum and minimum values from an array. \n",
    "<li> They take an optional second argument\n",
    "which indicates the axis to use.\n",
    "</ul>\n"
   ]
  },
  {
   "cell_type": "code",
   "execution_count": 22,
   "metadata": {
    "collapsed": false
   },
   "outputs": [
    {
     "name": "stdout",
     "output_type": "stream",
     "text": [
      "[[ 0.61653353  0.14028338  0.89959867 -0.89700305]\n",
      " [ 1.63687028 -2.39402378 -0.32861715  1.22070788]\n",
      " [-1.6741095   1.07466799  0.49449753 -0.10218869]]\n",
      "\n",
      "\n",
      "1.63687028018\n"
     ]
    }
   ],
   "source": [
    "x = random.randn(3,4)\n",
    "print(x)\n",
    "print(\"\\n\")\n",
    "print(amax(x))\n",
    "\n"
   ]
  },
  {
   "cell_type": "code",
   "execution_count": null,
   "metadata": {
    "collapsed": true
   },
   "outputs": [],
   "source": [
    "x.max()\n",
    "\n",
    "x.max(0)\n",
    "\n",
    "x.max(1)\n"
   ]
  },
  {
   "cell_type": "markdown",
   "metadata": {
    "collapsed": true
   },
   "source": [
    "<ul>\n",
    "\t<li> <code>max()</code> and <code>min()</code> can only be used on arrays as methods. \n",
    "\t<li> When used as a function, \\texttt{amax} and \\texttt{amin} must be used\n",
    "\tto avoid conflicts with the built-in functions <code>max()</code> and <code>min()</code>. \n",
    "\t% <li> This behavior is also seen in around and round.\n",
    "\t<li> \\texttt{argmax} and \\texttt{argmin} return the \\textbf{index} or indices of the maximum or minimum element(s). \n",
    "\t<li> They are used in\n",
    "\tan identical manner to <code>max()</code> and <code>min()</code>, and can be used either as a function or method.\n",
    "</ul>"
   ]
  },
  {
   "cell_type": "code",
   "execution_count": null,
   "metadata": {
    "collapsed": true
   },
   "outputs": [],
   "source": [
    "\\subsubsection{\\texttt{minimum}, \\texttt{maximum}}\n",
    "\\texttt{maximum} and \\texttt{minimum} can be used to compute the maximum and minimum of two arrays which are broadcastable.\n"
   ]
  },
  {
   "cell_type": "code",
   "execution_count": null,
   "metadata": {
    "collapsed": true
   },
   "outputs": [],
   "source": [
    "x = randn(4)\n",
    "\n",
    "y = randn(4)\n",
    "\n",
    "maximum(x,y)\n"
   ]
  },
  {
   "cell_type": "markdown",
   "metadata": {
    "collapsed": true
   },
   "source": [
    "<h3>Nan Functions</h3>\n",
    "NaN function are convenience function which act similarly to their non-NaN versions, only ignoring NaN\n",
    "values (rather than propagating) when computing the function.\n",
    "<h4>nansum</h4>\n",
    "<ul>\n",
    "\t<li> <code>nansum</code> is identical to sum, except that NaNs are ignored.\n",
    "\t<li> <code>nansum</code> can be used to easily generate other NaNfunctions,\n",
    "\tsuch as <code>nanstd</code> (standard deviation, ignoring nans) since variance can be implemented using 2\n",
    "\tsums.\n",
    "</ul>"
   ]
  },
  {
   "cell_type": "code",
   "execution_count": 29,
   "metadata": {
    "collapsed": false
   },
   "outputs": [
    {
     "name": "stdout",
     "output_type": "stream",
     "text": [
      "[-0.36641779         nan -1.04133421  0.28222879]\n"
     ]
    }
   ],
   "source": [
    "x = random.randn(4)\n",
    "x[1] = nan\n",
    "print(x)\n",
    "\n"
   ]
  },
  {
   "cell_type": "code",
   "execution_count": 30,
   "metadata": {
    "collapsed": false
   },
   "outputs": [
    {
     "name": "stdout",
     "output_type": "stream",
     "text": [
      "nan\n",
      "-1.12552321821\n"
     ]
    }
   ],
   "source": [
    "print(sum(x))\n",
    "print(nansum(x))"
   ]
  },
  {
   "cell_type": "code",
   "execution_count": 31,
   "metadata": {
    "collapsed": false
   },
   "outputs": [
    {
     "data": {
      "text/plain": [
       "1.0"
      ]
     },
     "execution_count": 31,
     "metadata": {},
     "output_type": "execute_result"
    }
   ],
   "source": [
    "nansum(x) / sum(x[logical_not(isnan(x))])\n",
    "\n"
   ]
  },
  {
   "cell_type": "code",
   "execution_count": 32,
   "metadata": {
    "collapsed": false
   },
   "outputs": [
    {
     "data": {
      "text/plain": [
       "-0.37517440606949809"
      ]
     },
     "execution_count": 32,
     "metadata": {},
     "output_type": "execute_result"
    }
   ],
   "source": [
    "nansum(x) / sum(1-isnan(x)) # nanmean"
   ]
  },
  {
   "cell_type": "markdown",
   "metadata": {},
   "source": [
    "<h4>nanmax, nanargmax, nanmin, nanargmin</h4>\n",
    "\n",
    "<ul>\n",
    "<li> <code>nanmax()</code>, <code>nanmin, nanargmax()</code> and <code>nanargmin()</code> are identical to their non-NaN counterparts, except that NaNs\n",
    "are ignored.\n",
    "</ul>"
   ]
  },
  {
   "cell_type": "markdown",
   "metadata": {
    "collapsed": true
   },
   "source": [
    "<h4>Functions and Methods/Properties</h4>\n",
    "Many operations on NumPy arrays and matrices can be performed using a function or as a method of the\n",
    "array. For example, consider \\texttt{reshape}.\n"
   ]
  },
  {
   "cell_type": "code",
   "execution_count": 33,
   "metadata": {
    "collapsed": false
   },
   "outputs": [
    {
     "name": "stdout",
     "output_type": "stream",
     "text": [
      "[[  0.   1.   2.   3.   4.]\n",
      " [  5.   6.   7.   8.   9.]\n",
      " [ 10.  11.  12.  13.  14.]\n",
      " [ 15.  16.  17.  18.  19.]\n",
      " [ 20.  21.  22.  23.  24.]]\n"
     ]
    }
   ],
   "source": [
    "x = arange(25.0)\n",
    "y = x.reshape((5,5))\n",
    "print(y)\n",
    "\n"
   ]
  },
  {
   "cell_type": "code",
   "execution_count": 34,
   "metadata": {
    "collapsed": false
   },
   "outputs": [
    {
     "name": "stdout",
     "output_type": "stream",
     "text": [
      "[[  0.   1.   2.   3.   4.]\n",
      " [  5.   6.   7.   8.   9.]\n",
      " [ 10.  11.  12.  13.  14.]\n",
      " [ 15.  16.  17.  18.  19.]\n",
      " [ 20.  21.  22.  23.  24.]]\n"
     ]
    }
   ],
   "source": [
    "z = reshape(x,(5,5))\n",
    "print(z) "
   ]
  },
  {
   "cell_type": "code",
   "execution_count": null,
   "metadata": {
    "collapsed": true
   },
   "outputs": [],
   "source": []
  },
  {
   "cell_type": "code",
   "execution_count": null,
   "metadata": {
    "collapsed": true
   },
   "outputs": [],
   "source": []
  },
  {
   "cell_type": "code",
   "execution_count": null,
   "metadata": {
    "collapsed": true
   },
   "outputs": [],
   "source": []
  }
 ],
 "metadata": {
  "kernelspec": {
   "display_name": "Python 3",
   "language": "python",
   "name": "python3"
  },
  "language_info": {
   "codemirror_mode": {
    "name": "ipython",
    "version": 3
   },
   "file_extension": ".py",
   "mimetype": "text/x-python",
   "name": "python",
   "nbconvert_exporter": "python",
   "pygments_lexer": "ipython3",
   "version": "3.5.1"
  }
 },
 "nbformat": 4,
 "nbformat_minor": 0
}
