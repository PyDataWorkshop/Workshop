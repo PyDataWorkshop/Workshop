{
 "cells": [
  {
   "cell_type": "markdown",
   "metadata": {
    "collapsed": false
   },
   "source": [
    "Working with Linear Models\n",
    "=======================================================\n",
    "\n",
    "## Evaluating the linear regression model}\n",
    "* In this section, we'll look at how well our regression fits the underlying data. We fit a regression\n",
    "* in the last section, but didn't pay much attention to how well we actually did it. \n",
    "* The first question\n",
    "after we fit the model was clearly \"\\textit{How well does the model fit?}\" Here we will examine\n",
    "this question.\n",
    "\n",
    "### Getting ready \n",
    "* Let's use the <tt>lr</tt>tt> object and boston dataset—reach back into your code from the \\textit{Fitting a line\n",
    "through data} section. \n",
    "* The lr object will have a lot of useful methods now that the model has\n",
    "been fit.\n",
    "\n",
    "#### Implementation\n",
    "There are some very simple metrics and plots we'll want to look at as well. Let's take another\n",
    "look at the residual plot:\n",
    "\n",
    "%========================================================%"
   ]
  },
  {
   "cell_type": "code",
   "execution_count": 3,
   "metadata": {
    "collapsed": false
   },
   "outputs": [
   ],
   "source": [
    "import matplotlib.pyplot as plt\n",
    "import numpy as np\n"
   ]
  },
  {
   "cell_type": "code",
   "execution_count": 4,
   "metadata": {
    "collapsed": false
   },
   "outputs": [
    {
     "ename": "NameError",
     "evalue": "name 'boston' is not defined",
     "output_type": "error",
     "traceback": [
      "\u001b[0;31m---------------------------------------------------------------------------\u001b[0m",
      "\u001b[0;31mNameError\u001b[0m                                 Traceback (most recent call last)",
      "\u001b[0;32m/tmp/ipykernel_227/2369723480.py\u001b[0m in \u001b[0;36m<cell line: 3>\u001b[0;34m()\u001b[0m\n\u001b[1;32m      1\u001b[0m \u001b[0mf\u001b[0m \u001b[0;34m=\u001b[0m \u001b[0mplt\u001b[0m\u001b[0;34m.\u001b[0m\u001b[0mfigure\u001b[0m\u001b[0;34m(\u001b[0m\u001b[0mfigsize\u001b[0m\u001b[0;34m=\u001b[0m\u001b[0;34m(\u001b[0m\u001b[0;36m7\u001b[0m\u001b[0;34m,\u001b[0m \u001b[0;36m5\u001b[0m\u001b[0;34m)\u001b[0m\u001b[0;34m)\u001b[0m\u001b[0;34m\u001b[0m\u001b[0;34m\u001b[0m\u001b[0m\n\u001b[1;32m      2\u001b[0m \u001b[0max\u001b[0m \u001b[0;34m=\u001b[0m \u001b[0mf\u001b[0m\u001b[0;34m.\u001b[0m\u001b[0madd_subplot\u001b[0m\u001b[0;34m(\u001b[0m\u001b[0;36m111\u001b[0m\u001b[0;34m)\u001b[0m\u001b[0;34m\u001b[0m\u001b[0;34m\u001b[0m\u001b[0m\n\u001b[0;32m----> 3\u001b[0;31m \u001b[0max\u001b[0m\u001b[0;34m.\u001b[0m\u001b[0mhist\u001b[0m\u001b[0;34m(\u001b[0m\u001b[0mboston\u001b[0m\u001b[0;34m.\u001b[0m\u001b[0mtarget\u001b[0m \u001b[0;34m-\u001b[0m \u001b[0mpredictions\u001b[0m\u001b[0;34m,\u001b[0m \u001b[0mbins\u001b[0m\u001b[0;34m=\u001b[0m\u001b[0;36m50\u001b[0m\u001b[0;34m)\u001b[0m\u001b[0;34m\u001b[0m\u001b[0;34m\u001b[0m\u001b[0m\n\u001b[0m\u001b[1;32m      4\u001b[0m \u001b[0max\u001b[0m\u001b[0;34m.\u001b[0m\u001b[0mset_title\u001b[0m\u001b[0;34m(\u001b[0m\u001b[0;34m\"Histogram of Residuals.\"\u001b[0m\u001b[0;34m)\u001b[0m\u001b[0;34m\u001b[0m\u001b[0;34m\u001b[0m\u001b[0m\n",
      "\u001b[0;31mNameError\u001b[0m: name 'boston' is not defined"
     ]
    },
    {
     "data": {
      "image/png": "[encoded data removed]",
      "text/plain": [
       "<Figure size 504x360 with 1 Axes>"
      ]
     },
     "execution_count": 4,
     "metadata": {
      "image/png": {
       "height": 306,
       "width": 435
      },
      "needs_background": "light"
     },
     "output_type": "execute_result"
    }
   ],
   "source": [
    "f = plt.figure(figsize=(7, 5))\n",
    "ax = f.add_subplot(111)\n",
    "ax.hist(boston.target - predictions, bins=50)\n",
    "ax.set_title(\"Histogram of Residuals.\")\n"
   ]
  },
  {
   "cell_type": "markdown",
   "metadata": {
    "collapsed": false
   },
   "source": [
    "#### Remark\n",
    "\n",
    "*  If you're using IPython Notebook, use the \\texttt{\\%matplotlib inline} command to render the\n",
    "plots inline. If you're using a regular interpreter, simply type \\texttt{f.savefig('myfig.png')}\n",
    "and the plot will be saved for you.\n",
    "\n",
    "*  Plotting can be done via matplotlib. This isn't the focus of this workshop\n",
    "but it's useful to plot your results, so we'll show some basic plotting.\n",
    "The following is the histogram showing the output:\n",
    "\n",
    "*  The error terms should be normal, with a mean of 0. The residuals\n",
    "are the errors; therefore, this plot should be approximately normal. Visually, it's a good fit, though\n",
    "a bit skewed. We can also look at the mean of the residuals, which should be very close to 0:\n",
    "\n",
    "\n",
    "\n"
   ]
  },
  {
   "cell_type": "code",
   "execution_count": 0,
   "metadata": {
    "collapsed": false
   },
   "outputs": [
   ],
   "source": [
    "np.mean(boston.target - predictions)\n",
    "\n",
    "# Clearly, we are very close."
   ]
  },
  {
   "cell_type": "markdown",
   "metadata": {
    "collapsed": false
   },
   "source": [
    "### Normal Probability Plots (Q-Q plots)\n",
    "\n",
    "* Another plot worth looking at is a Q-Q plot. \n",
    "* We'll use SciPy here because it has a built-in\n",
    "probability plot:\n",
    "\n"
   ]
  },
  {
   "cell_type": "code",
   "execution_count": 0,
   "metadata": {
    "collapsed": false
   },
   "outputs": [
   ],
   "source": [
    "<pre><code>\n",
    ">>> from scipy.stats import probplot\n",
    ">>> f = plt.figure(figsize=(7, 5))\n",
    ">>> ax = f.add_subplot(111)\n",
    ">>> probplot(boston.target - predictions, plot=ax)\n",
    "</code></pre>"
   ]
  },
  {
   "cell_type": "code",
   "execution_count": 0,
   "metadata": {
    "collapsed": false
   },
   "outputs": [
   ],
   "source": [
    "\n",
    "\n",
    "\\begin{figure}\n",
    "\\centering\n",
    "\\includegraphics[width=0.7\\linewidth]{images/SKL23-QQplot-2}\n",
    "\\end{figure}\n",
    "\n",
    "Here, the skewed values we saw earlier are a bit clearer.\n",
    "\\subsection*{Other Metrics}\n",
    "\n",
    "\n",
    "\n",
    "\n"
   ]
  },
  {
   "cell_type": "code",
   "execution_count": 0,
   "metadata": {
    "collapsed": false
   },
   "outputs": [
   ],
   "source": [
    "*  We can also look at some other metrics of the fit; mean squared error (MSE) and mean\n",
    "absolute deviation (MAD) are two common metrics.\n",
    "*  Let's define each one in Python and\n",
    "use them. \n",
    "*  Later in the book, we'll look at how scikit-learn has built-in metrics to evaluate the regression models:\n",
    "\n",
    "\n",
    "\n",
    "<pre><code>\n",
    ">>> def MSE(target, predictions):\n",
    "squared_deviation = np.power(target - predictions, 2)\n",
    "return np.mean(squared_deviation)\n",
    "\n"
   ]
  },
  {
   "cell_type": "code",
   "execution_count": 0,
   "metadata": {
    "collapsed": false
   },
   "outputs": [
   ],
   "source": [
    ">>> MSE(boston.target, predictions)\n",
    "21.897779217687496\n",
    ">>> def MAD(target, predictions):\n",
    "absolute_deviation = np.abs(target - predictions)\n",
    "return np.mean(absolute_deviation)\n",
    ">>> MAD(boston.target, predictions)\n",
    "3.2729446379969396\n",
    "</code></pre>\n"
   ]
  },
  {
   "cell_type": "code",
   "execution_count": 0,
   "metadata": {
    "collapsed": false
   },
   "outputs": [
   ],
   "source": [
    "### Theory  \n",
    "The formula for MSE is very simple:\n",
    "\\[\\mbox{MSE}=\\frac{1}{n}\\sum_{i=1}^n(\\hat{Y_i} - Y_i)^2 \\]\n",
    "\n",
    "\n",
    "* It takes each predicted value's deviance from the actual value, squares it, and then averages\n",
    "all the squared terms.\n",
    "*   This is actually what we optimized to find the best set of coefficients for\n",
    "linear regression. The Gauss-Markov theorem actually guarantees that the solution to linear\n",
    "regression is the best in the sense that the coefficients have the smallest expected squared\n",
    "error and are unbiased. \n",
    "*  In the Ridge Regression component to overcome linear regression's shortfalls\n",
    "section, we'll look at what happens when we're okay with our coefficients being biased.\n",
    "\n",
    "\n",
    "\n",
    "\n"
   ]
  },
  {
   "cell_type": "markdown",
   "metadata": {
    "collapsed": false
   },
   "source": [
    "MAD is the expected error for the absolute errors:\n",
    "\n",
    "    $$ \\mbox{MAD}=\\frac{1}{n}\\sum_{i=1}^n |\\hat{Y_i} - Y_i| $$\n",
    "\n",
    "MAD isn't used when fitting the linear regression, but it's worth taking a look at. Why?\n",
    "Think about what each one is doing and which errors are more important in each case.\n",
    "For example, with MSE, the larger errors get penalized more than the other terms because\n",
    "of the square term.\n",
    "\n",
    "#### Further Remarks - Bootstrapping\n",
    "\n",
    "Importantly the regression coefficients themselves are\n",
    "random variables, and therefore, they have a distribution. Let's use bootstrapping to look\n",
    "at the distribution of the coefficient for the crime rate. Bootstrapping is a very common\n",
    "technique to get an understanding of the uncertainty of an estimate:\n"
   ]
  },
  {
   "cell_type": "code",
   "execution_count": 0,
   "metadata": {
    "collapsed": false
   },
   "outputs": [
   ],
   "source": [
    "\n",
    "<pre><code>\n",
    ">>> n_bootstraps = 1000\n",
    ">>> len_boston = len(boston.target)\n",
    ">>> subsample_size = np.int(0.5*len_boston)\n",
    ">>>\n",
    ">>> subsample = lambda: np.random.choice(np.arange(0, len_boston),size=subsample_size)\n",
    ">>> coefs = np.ones(n_bootstraps) #pre-allocate the space for the coefs\n",
    ">>>\n",
    ">>> for i in range(n_bootstraps):\n",
    "subsample_idx = subsample()\n",
    "subsample_X = boston.data[subsample_idx]\n",
    "subsample_y = boston.target[subsample_idx]\n",
    ">>>\n",
    ">>> lr.fit(subsample_X, subsample_y)\n",
    ">>> coefs[i] = lr.coef_[0]\n",
    "</code></pre>\n",
    "\n",
    "%========================================================%\n",
    "% % Working with Linear Models\n",
    "% % 62\n",
    "Now, we can look at the distribution of the coefficient:\n",
    "\n",
    "<pre><code>\n",
    ">>> import matplotlib.pyplot as plt\n",
    ">>> f = plt.figure(figsize=(7, 5))\n",
    ">>> ax = f.add_subplot(111)\n",
    ">>> ax.hist(coefs, bins=50)\n",
    ">>> ax.set_title(\"Histogram of the lr.coef_[0].\")\n",
    "</code></pre>\n",
    "\n",
    "The following is the histogram that gets generated:\n",
    "%========================================================%\n",
    "% % Chapter 2\n",
    "% % 63\n",
    "We might also want to look at the bootstrapped confidence interval:\n",
    "\n",
    "<pre><code>\n",
    ">>> np.percentile(coefs, [2.5, 97.5])\n",
    "\n",
    "array([-0.18566145, 0.03142513])\n",
    "</code></pre>\n",
    "\n",
    "\n",
    "*  \n",
    "This is interesting; there's actually reason to believe that the crime rate might not have an\n",
    "impact on the home prices. Notice how zero is within CI, which means that it may not play\n",
    "a role.\n",
    "*  It's also worth pointing out that bootstrapping can lead to a potentially better estimation for\n",
    "coefficients because the bootstrapped mean with converge to the true mean is faster than\n",
    "the coefficient found using regular estimation when in the limit."
   ]
  }
 ],
 "metadata": {
  "kernelspec": {
   "argv": [
    "/usr/bin/python3",
    "-m",
    "ipykernel",
    "--HistoryManager.enabled=False",
    "--matplotlib=inline",
    "-c",
    "%config InlineBackend.figure_formats = set(['retina'])\nimport matplotlib; matplotlib.rcParams['figure.figsize'] = (12, 7)",
    "-f",
    "{connection_file}"
   ],
   "display_name": "Python 3 (system-wide)",
   "env": {
   },
   "language": "python",
   "metadata": {
    "cocalc": {
     "description": "Python 3 programming language",
     "priority": 100,
     "url": "https://www.python.org/"
    }
   },
   "name": "python3",
   "resource_dir": "/ext/jupyter/kernels/python3"
  },
  "language_info": {
   "codemirror_mode": {
    "name": "ipython",
    "version": 3
   },
   "file_extension": ".py",
   "mimetype": "text/x-python",
   "name": "python",
   "nbconvert_exporter": "python",
   "pygments_lexer": "ipython3",
   "version": "3.10.12"
  }
 },
 "nbformat": 4,
 "nbformat_minor": 4
}